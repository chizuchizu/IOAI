{
  "cells": [
    {
      "cell_type": "markdown",
      "metadata": {
        "id": "view-in-github",
        "colab_type": "text"
      },
      "source": [
        "<a href=\"https://colab.research.google.com/github/chizuchizu/IOAI/blob/main/Task1/chizu_006_task1.ipynb\" target=\"_parent\"><img src=\"https://colab.research.google.com/assets/colab-badge.svg\" alt=\"Open In Colab\"/></a>"
      ]
    },
    {
      "cell_type": "markdown",
      "metadata": {
        "id": "4ZgLjczNn2eY"
      },
      "source": [
        "# Save the Factory: Feature Engineering Challenge"
      ]
    },
    {
      "cell_type": "markdown",
      "metadata": {
        "id": "eNLJBBCT9W_0"
      },
      "source": [
        "<img src=\"https://drive.google.com/uc?id=1QjV8Th9fOK89MhgV-Y1Irn7dTl7ZheP0\" width=\"650\">\n",
        "\n",
        "## Background\n",
        "\n",
        "In the whimsical town of Widgetville, the mighty Widget Corp stands as the centerpiece, crafting widgets of unmatched quality with a **Ruby** and **Sapphire** magic stones inside. But recently, a trickster sprite seems to have infiltrated the assembly lines, introducing problems and faults to widgets's working procedure and labels. As the company’s freshly appointed Chief Engineering Detective, you are tasked with a mission to unravel this puzzling situation.\n",
        "\n",
        "## Task\n",
        "\n",
        "- Your ultimate goal is to effectively classify widgets into two classes: **Ruby** and **Sapphire**.\n",
        "\n",
        "- You have recovered the labels for a previous month's supply of widgets, and should use these to classify the remaining widgets.\n",
        "\n",
        "- For every widget, you have an access to the so-called \"The Pulse of the Machine\" -- a unique numerical representation of each widget, which features 8 magic threads (represented by 178 numbers) woven into the central timeless crystal.\n",
        "Therefore, each widget is described by (178 x 8) array. You must use these data to recover the **Ruby** and **Sapphire** labels.\n",
        "\n",
        "- You need to engineer discerning features from the **Pulse of the Machine**, since efficient factory procedures allow you to **only use Decision Tree Classifier** with a limited tree depth as a model, with no hyperparameters change allowed.\n",
        "  - You can read more about Decision Trees in scikit-learn documentation:\n",
        "    - https://en.wikipedia.org/wiki/Decision_tree\n",
        "    - https://scikit-learn.org/stable/modules/tree.html\n",
        "    - https://scikit-learn.org/stable/modules/generated/sklearn.tree.DecisionTreeClassifier.html\n",
        "  \n",
        "- You have two levels of difficulty, producing **Efficient** and **Super Duper Efficient** solutions. These vary by the allowed tree depth.\n",
        "\n",
        "- Your classification success will be measured by the ROC AUC metric\n",
        "  - https://scikit-learn.org/stable/modules/generated/sklearn.metrics.roc_auc_score.html\n",
        "\n",
        "- Your solution for each task should not exceed 3 minutes for training from scratch and 1 minute for inference on the test set on the standard Colab non-GPU instance. This includes features generation.\n",
        "\n",
        "## Deliverables\n",
        "\n",
        "- We will share the test data 48 hours before the deadline\n",
        "\n",
        "- Use test data to create `efficient_test_predictions.txt` and `super_duper_efficient_test_predictions.txt` and share these files with us\n",
        "\n",
        "- Also share this notebook containing your solution so we can reproduce your results and check the time constraints\n",
        "\n",
        "## Tips\n",
        "- Aim to create a minimal yet mighty set of derivative features to maintain the elegance and effectiveness of your tools.\n",
        "- The crystals are indeed **timeless** -- be aware that there are no time series involved.\n",
        "- There was a rumor that not only labels, but the data itself was corrupted by evil spirits. Is there a way for a possible recovery?\n",
        "- Ensure your solutions are as clear as the crystal waters of Widgetville’s famed springs by providing them with sufficient documentation."
      ]
    },
    {
      "cell_type": "markdown",
      "metadata": {
        "id": "sGIf8SuD_dYQ"
      },
      "source": [
        "# Below goes data loading and visualization"
      ]
    },
    {
      "cell_type": "code",
      "execution_count": 1,
      "metadata": {
        "id": "i1QCJ9uc9TxT"
      },
      "outputs": [],
      "source": [
        "import pandas as pd\n",
        "import numpy as np\n",
        "np.random.seed(2024)\n",
        "import matplotlib.pyplot as plt\n",
        "\n",
        "from sklearn.tree import DecisionTreeClassifier\n",
        "from sklearn.metrics import roc_auc_score\n",
        "\n",
        "import scipy.stats\n"
      ]
    },
    {
      "cell_type": "code",
      "execution_count": 6,
      "metadata": {
        "colab": {
          "base_uri": "https://localhost:8080/"
        },
        "id": "qgrnJib9_gC9",
        "outputId": "0ffee305-0dfa-4da8-8106-891b3a7e059c"
      },
      "outputs": [
        {
          "output_type": "stream",
          "name": "stdout",
          "text": [
            "Downloading...\n",
            "From (original): https://drive.google.com/uc?id=1eIrRyAqckN6zCjPb9VS-2rw7Bup7YhsA\n",
            "From (redirected): https://drive.google.com/uc?id=1eIrRyAqckN6zCjPb9VS-2rw7Bup7YhsA&confirm=t&uuid=2f37cf57-4832-4509-8126-e45e531fae43\n",
            "To: /content/FE_hometask_data_v3.pickle\n",
            "100% 260M/260M [00:03<00:00, 74.1MB/s]\n"
          ]
        }
      ],
      "source": [
        "!gdown 1eIrRyAqckN6zCjPb9VS-2rw7Bup7YhsA"
      ]
    },
    {
      "cell_type": "code",
      "execution_count": 3,
      "metadata": {
        "colab": {
          "base_uri": "https://localhost:8080/"
        },
        "id": "yACb1lLu_kp8",
        "outputId": "28740fbb-e89f-4ac6-fa72-4946893c309d"
      },
      "outputs": [
        {
          "output_type": "stream",
          "name": "stdout",
          "text": [
            "train\n",
            "val\n"
          ]
        }
      ],
      "source": [
        "data = pd.read_pickle('FE_hometask_data_v3.pickle')\n",
        "for key in data.keys():\n",
        "  print(key)"
      ]
    },
    {
      "cell_type": "code",
      "execution_count": 13,
      "metadata": {
        "id": "yiuRH5Z-_lZ6"
      },
      "outputs": [],
      "source": [
        "X_train = np.array([x[0] for x in data['train'].values()])\n",
        "y_train = np.array([x[1] for x in data['train'].values()])\n",
        "\n",
        "X_val = np.array([x[0] for x in data['val'].values()])\n",
        "y_val = np.array([x[1] for x in data['val'].values()])\n",
        "\n",
        "\n",
        "# this is temporary as we'll share the test data later\n",
        "X_test = X_val"
      ]
    },
    {
      "cell_type": "code",
      "source": [
        "from scipy.fft import fft, fftfreq\n",
        "Fs = X_train.shape[1]  # サンプル/秒\n",
        "# サンプル数\n",
        "T = 1.0 / Fs  # サンプリング間隔\n",
        "N = X_train.shape[1]  # サンプル数\n",
        "t = np.linspace(0.0, N*T, N, endpoint=False)"
      ],
      "metadata": {
        "id": "oaEMnvf1FyFG"
      },
      "execution_count": 15,
      "outputs": []
    },
    {
      "cell_type": "code",
      "source": [
        "# FFTの計算\n",
        "yf = fft(X_train)\n",
        "xf = fftfreq(N, T)[:N//2]"
      ],
      "metadata": {
        "id": "a9lxE2LJFyxx"
      },
      "execution_count": 27,
      "outputs": []
    },
    {
      "cell_type": "code",
      "source": [
        "yf.shape, xf.shape"
      ],
      "metadata": {
        "colab": {
          "base_uri": "https://localhost:8080/"
        },
        "id": "ewipz6aYFyz2",
        "outputId": "cc9f1096-aec7-4cdf-b7fc-c86d147f2c86"
      },
      "execution_count": 28,
      "outputs": [
        {
          "output_type": "execute_result",
          "data": {
            "text/plain": [
              "((20240, 187, 8), (93,))"
            ]
          },
          "metadata": {},
          "execution_count": 28
        }
      ]
    },
    {
      "cell_type": "code",
      "source": [],
      "metadata": {
        "id": "E4aEW-KkGRtG"
      },
      "execution_count": 23,
      "outputs": []
    },
    {
      "cell_type": "code",
      "source": [
        "# オリジナルの波形をプロット\n",
        "plt.subplot(2, 1, 1)\n",
        "plt.plot(t, X_train[0])\n",
        "plt.title('Time Domain Signal')\n",
        "plt.xlabel('Time [s]')\n",
        "plt.ylabel('Amplitude')\n",
        "\n",
        "# FFT結果のプロット\n",
        "plt.subplot(2, 1, 2)\n",
        "plt.plot(xf, 2.0/N * np.abs(yf[:N//2]))"
      ],
      "metadata": {
        "colab": {
          "base_uri": "https://localhost:8080/",
          "height": 595
        },
        "id": "i40b19wKFy17",
        "outputId": "914997f4-3d00-413d-8a2e-cd9dc3566dc7"
      },
      "execution_count": 24,
      "outputs": [
        {
          "output_type": "execute_result",
          "data": {
            "text/plain": [
              "[<matplotlib.lines.Line2D at 0x787999aea560>,\n",
              " <matplotlib.lines.Line2D at 0x787999aea5c0>,\n",
              " <matplotlib.lines.Line2D at 0x787999aea5f0>,\n",
              " <matplotlib.lines.Line2D at 0x787999aea6e0>,\n",
              " <matplotlib.lines.Line2D at 0x787999ae9480>,\n",
              " <matplotlib.lines.Line2D at 0x787999aea7a0>,\n",
              " <matplotlib.lines.Line2D at 0x787999aea890>,\n",
              " <matplotlib.lines.Line2D at 0x787999aea980>]"
            ]
          },
          "metadata": {},
          "execution_count": 24
        },
        {
          "output_type": "display_data",
          "data": {
            "text/plain": [
              "<Figure size 640x480 with 2 Axes>"
            ],
            "image/png": "[encoded data removed]"
          },
          "metadata": {}
        }
      ]
    },
    {
      "cell_type": "code",
      "source": [],
      "metadata": {
        "id": "mfTXKQh_Fy4C"
      },
      "execution_count": null,
      "outputs": []
    },
    {
      "cell_type": "code",
      "source": [],
      "metadata": {
        "id": "y-KAeNu3Fy6G"
      },
      "execution_count": null,
      "outputs": []
    },
    {
      "cell_type": "code",
      "source": [],
      "metadata": {
        "id": "flLoHhJAFy8k"
      },
      "execution_count": null,
      "outputs": []
    },
    {
      "cell_type": "code",
      "execution_count": 9,
      "metadata": {
        "colab": {
          "base_uri": "https://localhost:8080/"
        },
        "id": "kcdbMOlV_sS2",
        "outputId": "1d43e1a7-844c-43c9-8281-479657e26f54"
      },
      "outputs": [
        {
          "output_type": "execute_result",
          "data": {
            "text/plain": [
              "((20240, 187, 8), (20240,), (1456, 187, 8), (1456,), (1456, 187, 8))"
            ]
          },
          "metadata": {},
          "execution_count": 9
        }
      ],
      "source": [
        "X_train.shape, y_train.shape, X_val.shape, y_val.shape, X_test.shape"
      ]
    },
    {
      "cell_type": "code",
      "execution_count": 10,
      "metadata": {
        "id": "4dIpYokJ_ty1"
      },
      "outputs": [],
      "source": [
        "def vis(arr, color='r'):\n",
        "  widget_type = 'Ruby' if color == 'r' else 'Sapphire'\n",
        "  plt.figure(figsize=(12, 8))\n",
        "  for cnt in range(8):\n",
        "    plt.plot(arr[:, cnt], color=color, alpha=.2 + .1*cnt)\n",
        "  plt.grid()\n",
        "  plt.title(f'Pulse of the Machine for {widget_type}')"
      ]
    },
    {
      "cell_type": "code",
      "execution_count": null,
      "metadata": {
        "colab": {
          "base_uri": "https://localhost:8080/"
        },
        "id": "fmX46V1D_uxl",
        "outputId": "a15319f1-52d5-4893-cd0e-b6fffb41a130"
      },
      "outputs": [
        {
          "output_type": "execute_result",
          "data": {
            "text/plain": [
              "(True, False)"
            ]
          },
          "metadata": {},
          "execution_count": 74
        }
      ],
      "source": [
        "y_train[0], y_train[2]"
      ]
    },
    {
      "cell_type": "markdown",
      "metadata": {
        "id": "y9DoGsgD_2Zk"
      },
      "source": [
        "# Functions to evaluate the results\n",
        "N.B. Do not change it!"
      ]
    },
    {
      "cell_type": "code",
      "execution_count": 5,
      "metadata": {
        "id": "UvI3icO8_x7E"
      },
      "outputs": [],
      "source": [
        "def efficient_eval(train_features, val_features):\n",
        "  model = DecisionTreeClassifier(max_depth=20, random_state=2024).fit(train_features, y_train)\n",
        "  preds = model.predict(val_features)\n",
        "  return roc_auc_score(y_val, preds)\n",
        "\n",
        "def super_duper_efficient_eval(train_features, val_features):\n",
        "  model = DecisionTreeClassifier(max_depth=4, random_state=2024).fit(train_features, y_train)\n",
        "  preds = model.predict(val_features)\n",
        "  return roc_auc_score(y_val, preds)"
      ]
    },
    {
      "cell_type": "markdown",
      "metadata": {
        "id": "bGWwQICs_4qo"
      },
      "source": [
        "# Functions to write answers to files\n",
        "\n",
        "Don't change the functions, share the files with us in your final submission."
      ]
    },
    {
      "cell_type": "code",
      "execution_count": 6,
      "metadata": {
        "id": "pNdmOEwT_3fk"
      },
      "outputs": [],
      "source": [
        "def efficient_test_predictions(train_features, test_features):\n",
        "  model = DecisionTreeClassifier(max_depth=20, random_state=2024).fit(train_features, y_train)\n",
        "  preds = ['1' if x else '0'\n",
        "           for x in model.predict(test_features)]\n",
        "  with open('efficient_test_predictions.txt', 'w') as f:\n",
        "    f.write(''.join(preds))\n",
        "\n",
        "def super_duper_efficient_test_predictions(train_features, test_features):\n",
        "  model = DecisionTreeClassifier(max_depth=4, random_state=2024).fit(train_features, y_train)\n",
        "  preds = ['1' if x else '0'\n",
        "           for x in model.predict(test_features)]\n",
        "  with open('super_duper_efficient_test_predictions.txt', 'w') as f:\n",
        "    f.write(''.join(preds))"
      ]
    },
    {
      "cell_type": "markdown",
      "metadata": {
        "id": "v27iLKbx_7zw"
      },
      "source": [
        "# Baselines: let's try some simple feature sets!\n",
        "- every 10th element of a flattened array\n",
        "- mean value / standard deviation by each axis"
      ]
    },
    {
      "cell_type": "code",
      "execution_count": 7,
      "metadata": {
        "id": "ISHOo044E7Yw"
      },
      "outputs": [],
      "source": [
        "def both_evavluate(train,val):\n",
        "    %time print(f\"efficient eval score : {efficient_eval(train,val)}\")\n",
        "    %time print(f\"super duper efficient eval score : {super_duper_efficient_eval(train,val)}\")"
      ]
    },
    {
      "cell_type": "code",
      "source": [
        "def min_max_normalization(a,axis=None):\n",
        "    a_min, a_max = a.min(axis=axis, keepdims=True), a.max(axis=axis, keepdims=True)\n",
        "    return (a-a_min)/(a_max-a_min)"
      ],
      "metadata": {
        "id": "b18VmQiIyZFT"
      },
      "execution_count": 8,
      "outputs": []
    },
    {
      "cell_type": "code",
      "source": [
        "def extract_important_index(a):\n",
        "    return np.array([\n",
        "        a[138][0], a[178][0], a[105][0], a[108][0], a[132][0], a[131][0], a[177][0], a[155][0], a[115][0], a[0][0],\n",
        "        a[169][1], a[7][1], a[14][1], a[20][1], a[72][1], a[51][1], a[13][1], a[118][1], a[40][1], a[160][1],\n",
        "        a[116][2], a[83][2], a[128][2], a[152][2], a[111][2], a[133][2], a[40][2], a[16][2], a[104][2], a[80][2],\n",
        "        a[131][3], a[120][3], a[22][3], a[40][3], a[171][3], a[157][3], a[107][3], a[59][3], a[133][3], a[134][3],\n",
        "        a[155][4], a[139][4], a[94][4], a[170][4], a[18][4], a[3][4], a[169][4], a[122][4], a[148][4], a[25][4],\n",
        "        a[33][5], a[34][5], a[159][5], a[62][5], a[52][5], a[126][5], a[70][5], a[42][5], a[37][5], a[162][5],\n",
        "        a[33][6], a[32][6], a[154][6], a[4][6], a[63][6], a[158][6], a[182][6], a[150][6], a[29][6], a[94][6],\n",
        "        a[6][7], a[24][7], a[183][7], a[102][7], a[70][7], a[30][7], a[50][7], a[31][7], a[158][7], a[16][7],\n",
        "    ])"
      ],
      "metadata": {
        "id": "EYn6-nj5A2AL"
      },
      "execution_count": 9,
      "outputs": []
    },
    {
      "cell_type": "code",
      "execution_count": 28,
      "metadata": {
        "id": "3lFM4hDps9PR"
      },
      "outputs": [],
      "source": [
        "def using_important_index_each_wave(X):\n",
        "    # Y = np.array([extract_important_index(x) for x in X])\n",
        "    # print(Y.shape)\n",
        "    Y = np.apply_along_axis(min_max_normalization, 1, X)\n",
        "    yf = np.abs(fft(Y))\n",
        "\n",
        "    Y = np.concatenate([Y, yf], axis=1)\n",
        "\n",
        "    # print(Y.shape)\n",
        "    return yf.reshape((yf.shape[0], -1))"
      ]
    },
    {
      "cell_type": "code",
      "source": [
        "a = using_important_index_each_wave(X_train)"
      ],
      "metadata": {
        "id": "Chzd3N0iH4kx"
      },
      "execution_count": 25,
      "outputs": []
    },
    {
      "cell_type": "code",
      "source": [
        "a.shape"
      ],
      "metadata": {
        "colab": {
          "base_uri": "https://localhost:8080/"
        },
        "id": "9FOEP6nmH4jm",
        "outputId": "a136dd37-3d59-4b7f-9662-8d7a1db1c507"
      },
      "execution_count": 26,
      "outputs": [
        {
          "output_type": "execute_result",
          "data": {
            "text/plain": [
              "(20240, 2992)"
            ]
          },
          "metadata": {},
          "execution_count": 26
        }
      ]
    },
    {
      "cell_type": "code",
      "source": [],
      "metadata": {
        "id": "cepy_LphH4yW"
      },
      "execution_count": 10,
      "outputs": []
    },
    {
      "cell_type": "code",
      "source": [
        "# np.abs(yf)"
      ],
      "metadata": {
        "id": "cFaHmYcBHv8U"
      },
      "execution_count": 11,
      "outputs": []
    },
    {
      "cell_type": "code",
      "source": [
        "both_evavluate(using_important_index_each_wave(X_train),using_important_index_each_wave(X_val))"
      ],
      "metadata": {
        "colab": {
          "base_uri": "https://localhost:8080/"
        },
        "id": "GZUDs9PE9l_3",
        "outputId": "2223efaf-ed58-409c-db6e-17ec3f0efcc2"
      },
      "execution_count": 27,
      "outputs": [
        {
          "output_type": "stream",
          "name": "stdout",
          "text": [
            "efficient eval score : 0.830132933666042\n",
            "CPU times: user 2min 34s, sys: 193 ms, total: 2min 35s\n",
            "Wall time: 2min 37s\n",
            "super duper efficient eval score : 0.7881121778024421\n",
            "CPU times: user 41.7 s, sys: 100 ms, total: 41.8 s\n",
            "Wall time: 46.4 s\n"
          ]
        }
      ]
    },
    {
      "cell_type": "code",
      "source": [
        "both_evavluate(using_important_index_each_wave(X_train),using_important_index_each_wave(X_val))"
      ],
      "metadata": {
        "colab": {
          "base_uri": "https://localhost:8080/"
        },
        "id": "FdYNGyXPJpDo",
        "outputId": "0855d07a-bee5-45fc-808e-fa251fde7ab0"
      },
      "execution_count": 29,
      "outputs": [
        {
          "output_type": "stream",
          "name": "stdout",
          "text": [
            "efficient eval score : 0.8155401272864766\n",
            "CPU times: user 1min 14s, sys: 124 ms, total: 1min 14s\n",
            "Wall time: 1min 15s\n",
            "super duper efficient eval score : 0.6987116982798544\n",
            "CPU times: user 20.8 s, sys: 75.6 ms, total: 20.9 s\n",
            "Wall time: 20.9 s\n"
          ]
        }
      ]
    },
    {
      "cell_type": "code",
      "source": [
        "def feature_flatten(X):\n",
        "    X = X.reshape((X.shape[0], -1))\n",
        "    Y = np.apply_along_axis(min_max_normalization, 1, X)\n",
        "    Y = np.array(Y)\n",
        "    return Y"
      ],
      "metadata": {
        "id": "PjMBXNRp2N-5"
      },
      "execution_count": null,
      "outputs": []
    },
    {
      "cell_type": "code",
      "execution_count": null,
      "metadata": {
        "id": "jH_B_OtstcUD"
      },
      "outputs": [],
      "source": [
        "# print(f\"wave {i} auc score : {super_duper_efficient_eval(feature_flatten(X_train),feature_flatten(X_val))}\")\n",
        "# model = DecisionTreeClassifier(max_depth=4, random_state=2024).fit(feature_flatten(X_train),y_train)\n",
        "# feature_importances = model.feature_importances_\n",
        "# sorted_index = np.argsort(feature_importances)[::-1]\n",
        "# for i in range(10):\n",
        "#     print(f\"wave : {sorted_index[i]//187}, index ; {sorted_index[i]%187}, importance :  {feature_importances[sorted_index[i]]}\")\n",
        "# plt.figure(figsize=(15, 10))\n",
        "# plt.bar(range(len(feature_importances)), feature_importances)"
      ]
    },
    {
      "cell_type": "code",
      "source": [
        "def get_diff_axis_zero(X):\n",
        "    Y=[]\n",
        "    for i in range(len(X)):\n",
        "        #todo 2-1 (0-indexed)\n",
        "        tmp = np.ravel(np.diff(X[i], axis=0))\n",
        "        tmp = min_max_normalization(tmp)\n",
        "        Y.append(list(tmp))\n",
        "\n",
        "    Y = np.array(Y)\n",
        "    return Y"
      ],
      "metadata": {
        "id": "iXVLaDe3vBMf"
      },
      "execution_count": null,
      "outputs": []
    },
    {
      "cell_type": "code",
      "source": [
        "%%time\n",
        "# both_evavluate(get_diff_axis_zero(X_train),get_diff_axis_zero(X_val))"
      ],
      "metadata": {
        "colab": {
          "base_uri": "https://localhost:8080/"
        },
        "id": "T679MNWvvJ5c",
        "outputId": "f3ba6d43-4290-496b-b438-cb27fe3f687a"
      },
      "execution_count": null,
      "outputs": [
        {
          "output_type": "stream",
          "name": "stdout",
          "text": [
            "CPU times: user 3 µs, sys: 0 ns, total: 3 µs\n",
            "Wall time: 5.48 µs\n"
          ]
        }
      ]
    }
  ],
  "metadata": {
    "colab": {
      "provenance": [],
      "include_colab_link": true
    },
    "kernelspec": {
      "display_name": "Python 3",
      "name": "python3"
    },
    "language_info": {
      "name": "python"
    }
  },
  "nbformat": 4,
  "nbformat_minor": 0
}