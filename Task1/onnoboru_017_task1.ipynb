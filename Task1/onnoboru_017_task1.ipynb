{
  "cells": [
    {
      "cell_type": "markdown",
      "metadata": {
        "id": "dt08CnC2sX84"
      },
      "source": [
        "# super の方だけスコア向上 & normal は時間間に合わない、ので要注意！！！！！！！！！！！"
      ]
    },
    {
      "cell_type": "markdown",
      "metadata": {
        "id": "lM6z3Ze6YUgJ"
      },
      "source": [
        "# 波形をいじる方針の実験\n",
        "https://github.com/amaotone/atmaCup-5/blob/master/src/features.py\n",
        "# todo\n",
        "ピーク周りだけ取ってくる方針、 scipy 、数値丸め込み？"
      ]
    },
    {
      "cell_type": "markdown",
      "metadata": {
        "id": "4ZgLjczNn2eY"
      },
      "source": [
        "# Save the Factory: Feature Engineering Challenge"
      ]
    },
    {
      "cell_type": "markdown",
      "metadata": {
        "id": "eNLJBBCT9W_0"
      },
      "source": [
        "<img src=\"https://drive.google.com/uc?id=1QjV8Th9fOK89MhgV-Y1Irn7dTl7ZheP0\" width=\"650\">\n",
        "\n",
        "## Background\n",
        "\n",
        "In the whimsical town of Widgetville, the mighty Widget Corp stands as the centerpiece, crafting widgets of unmatched quality with a **Ruby** and **Sapphire** magic stones inside. But recently, a trickster sprite seems to have infiltrated the assembly lines, introducing problems and faults to widgets's working procedure and labels. As the company’s freshly appointed Chief Engineering Detective, you are tasked with a mission to unravel this puzzling situation.\n",
        "\n",
        "## Task\n",
        "\n",
        "- Your ultimate goal is to effectively classify widgets into two classes: **Ruby** and **Sapphire**.\n",
        "\n",
        "- You have recovered the labels for a previous month's supply of widgets, and should use these to classify the remaining widgets.\n",
        "\n",
        "- For every widget, you have an access to the so-called \"The Pulse of the Machine\" -- a unique numerical representation of each widget, which features 8 magic threads (represented by 178 numbers) woven into the central timeless crystal.\n",
        "Therefore, each widget is described by (178 x 8) array. You must use these data to recover the **Ruby** and **Sapphire** labels.\n",
        "\n",
        "- You need to engineer discerning features from the **Pulse of the Machine**, since efficient factory procedures allow you to **only use Decision Tree Classifier** with a limited tree depth as a model, with no hyperparameters change allowed.\n",
        "  - You can read more about Decision Trees in scikit-learn documentation:\n",
        "    - https://en.wikipedia.org/wiki/Decision_tree\n",
        "    - https://scikit-learn.org/stable/modules/tree.html\n",
        "    - https://scikit-learn.org/stable/modules/generated/sklearn.tree.DecisionTreeClassifier.html\n",
        "  \n",
        "- You have two levels of difficulty, producing **Efficient** and **Super Duper Efficient** solutions. These vary by the allowed tree depth.\n",
        "\n",
        "- Your classification success will be measured by the ROC AUC metric\n",
        "  - https://scikit-learn.org/stable/modules/generated/sklearn.metrics.roc_auc_score.html\n",
        "\n",
        "- Your solution for each task should not exceed 3 minutes for training from scratch and 1 minute for inference on the test set on the standard Colab non-GPU instance. This includes features generation.\n",
        "\n",
        "## Deliverables\n",
        "\n",
        "- We will share the test data 48 hours before the deadline\n",
        "\n",
        "- Use test data to create `efficient_test_predictions.txt` and `super_duper_efficient_test_predictions.txt` and share these files with us\n",
        "\n",
        "- Also share this notebook containing your solution so we can reproduce your results and check the time constraints\n",
        "\n",
        "## Tips\n",
        "- Aim to create a minimal yet mighty set of derivative features to maintain the elegance and effectiveness of your tools.\n",
        "- The crystals are indeed **timeless** -- be aware that there are no time series involved.\n",
        "- There was a rumor that not only labels, but the data itself was corrupted by evil spirits. Is there a way for a possible recovery?\n",
        "- Ensure your solutions are as clear as the crystal waters of Widgetville’s famed springs by providing them with sufficient documentation."
      ]
    },
    {
      "cell_type": "markdown",
      "metadata": {
        "id": "sGIf8SuD_dYQ"
      },
      "source": [
        "# Below goes data loading and visualization"
      ]
    },
    {
      "cell_type": "code",
      "execution_count": 45,
      "metadata": {
        "id": "i1QCJ9uc9TxT"
      },
      "outputs": [],
      "source": [
        "import pandas as pd\n",
        "import numpy as np\n",
        "np.random.seed(2024)\n",
        "import matplotlib.pyplot as plt\n",
        "\n",
        "from sklearn.tree import DecisionTreeClassifier\n",
        "from sklearn.metrics import roc_auc_score\n",
        "from tqdm import tqdm\n",
        "import scipy.stats\n",
        "import scipy"
      ]
    },
    {
      "cell_type": "code",
      "execution_count": 46,
      "metadata": {
        "colab": {
          "base_uri": "https://localhost:8080/"
        },
        "id": "qgrnJib9_gC9",
        "outputId": "bc2ef0df-6d9c-4aac-fb76-a14d9b76305e"
      },
      "outputs": [
        {
          "output_type": "stream",
          "name": "stdout",
          "text": [
            "Downloading...\n",
            "From (original): https://drive.google.com/uc?id=1eIrRyAqckN6zCjPb9VS-2rw7Bup7YhsA\n",
            "From (redirected): https://drive.google.com/uc?id=1eIrRyAqckN6zCjPb9VS-2rw7Bup7YhsA&confirm=t&uuid=504874e8-b21d-4edd-9411-4de0a838fb4e\n",
            "To: /content/FE_hometask_data_v3.pickle\n",
            "100% 260M/260M [00:02<00:00, 120MB/s]\n"
          ]
        }
      ],
      "source": [
        "!gdown 1eIrRyAqckN6zCjPb9VS-2rw7Bup7YhsA"
      ]
    },
    {
      "cell_type": "code",
      "execution_count": 47,
      "metadata": {
        "colab": {
          "base_uri": "https://localhost:8080/"
        },
        "id": "yACb1lLu_kp8",
        "outputId": "992bd1a5-1a86-464f-d95d-26b3e990f5a2"
      },
      "outputs": [
        {
          "output_type": "stream",
          "name": "stdout",
          "text": [
            "train\n",
            "val\n"
          ]
        }
      ],
      "source": [
        "data = pd.read_pickle('FE_hometask_data_v3.pickle')\n",
        "for key in data.keys():\n",
        "  print(key)"
      ]
    },
    {
      "cell_type": "code",
      "execution_count": 48,
      "metadata": {
        "id": "yiuRH5Z-_lZ6"
      },
      "outputs": [],
      "source": [
        "X_train = np.array([x[0] for x in data['train'].values()])\n",
        "y_train = np.array([x[1] for x in data['train'].values()])\n",
        "\n",
        "X_val = np.array([x[0] for x in data['val'].values()])\n",
        "y_val = np.array([x[1] for x in data['val'].values()])\n",
        "\n",
        "\n",
        "# this is temporary as we'll share the test data later\n",
        "X_test = X_val"
      ]
    },
    {
      "cell_type": "code",
      "execution_count": 49,
      "metadata": {
        "id": "oaEMnvf1FyFG"
      },
      "outputs": [],
      "source": [
        "from scipy.fft import fft, fftfreq\n",
        "Fs = X_train.shape[1]  # サンプル/秒\n",
        "# サンプル数\n",
        "T = 1.0 / Fs  # サンプリング間隔\n",
        "N = X_train.shape[1]  # サンプル数\n",
        "t = np.linspace(0.0, N*T, N, endpoint=False)"
      ]
    },
    {
      "cell_type": "code",
      "execution_count": 50,
      "metadata": {
        "id": "a9lxE2LJFyxx"
      },
      "outputs": [],
      "source": [
        "# FFTの計算\n",
        "yf = fft(X_train)\n",
        "xf = fftfreq(N, T)[:N//2]"
      ]
    },
    {
      "cell_type": "code",
      "execution_count": 51,
      "metadata": {
        "colab": {
          "base_uri": "https://localhost:8080/"
        },
        "id": "ewipz6aYFyz2",
        "outputId": "1e53bdba-6350-455e-bc6b-f12adcb24939"
      },
      "outputs": [
        {
          "output_type": "execute_result",
          "data": {
            "text/plain": [
              "((20240, 187, 8), (93,))"
            ]
          },
          "metadata": {},
          "execution_count": 51
        }
      ],
      "source": [
        "yf.shape, xf.shape"
      ]
    },
    {
      "cell_type": "code",
      "execution_count": 52,
      "metadata": {
        "colab": {
          "base_uri": "https://localhost:8080/"
        },
        "id": "kcdbMOlV_sS2",
        "outputId": "088eae21-0345-45c7-c0ec-f88c0fec5caf"
      },
      "outputs": [
        {
          "output_type": "execute_result",
          "data": {
            "text/plain": [
              "((20240, 187, 8), (20240,), (1456, 187, 8), (1456,), (1456, 187, 8))"
            ]
          },
          "metadata": {},
          "execution_count": 52
        }
      ],
      "source": [
        "X_train.shape, y_train.shape, X_val.shape, y_val.shape, X_test.shape"
      ]
    },
    {
      "cell_type": "code",
      "execution_count": 53,
      "metadata": {
        "id": "4dIpYokJ_ty1"
      },
      "outputs": [],
      "source": [
        "def vis(arr, color='r'):\n",
        "  widget_type = 'Ruby' if color == 'r' else 'Sapphire'\n",
        "  plt.figure(figsize=(12, 8))\n",
        "  for cnt in range(8):\n",
        "    plt.plot(arr[:, cnt], color=color, alpha=.2 + .1*cnt)\n",
        "  plt.grid()\n",
        "  plt.title(f'Pulse of the Machine for {widget_type}')"
      ]
    },
    {
      "cell_type": "code",
      "execution_count": 54,
      "metadata": {
        "colab": {
          "base_uri": "https://localhost:8080/"
        },
        "id": "fmX46V1D_uxl",
        "outputId": "fedb8ad0-8246-46e5-e86c-3240a0976a7b"
      },
      "outputs": [
        {
          "output_type": "execute_result",
          "data": {
            "text/plain": [
              "(True, False)"
            ]
          },
          "metadata": {},
          "execution_count": 54
        }
      ],
      "source": [
        "y_train[0], y_train[2]"
      ]
    },
    {
      "cell_type": "code",
      "execution_count": 55,
      "metadata": {
        "colab": {
          "base_uri": "https://localhost:8080/",
          "height": 287
        },
        "id": "GqCCNzHHsCxL",
        "outputId": "645c1c20-406e-4bfb-fd57-861b5d022220"
      },
      "outputs": [
        {
          "output_type": "execute_result",
          "data": {
            "text/plain": [
              "Text(0, 0.5, 'Amplitude')"
            ]
          },
          "metadata": {},
          "execution_count": 55
        },
        {
          "output_type": "display_data",
          "data": {
            "text/plain": [
              "<Figure size 640x480 with 1 Axes>"
            ],
            "image/png": "[encoded data removed]"
          },
          "metadata": {}
        }
      ],
      "source": [
        "# オリジナルの波形をプロット\n",
        "plt.subplot(2, 1, 1)\n",
        "plt.plot(t, X_train[0])\n",
        "plt.title('Time Domain Signal')\n",
        "plt.xlabel('Time [s]')\n",
        "plt.ylabel('Amplitude')"
      ]
    },
    {
      "cell_type": "markdown",
      "metadata": {
        "id": "y9DoGsgD_2Zk"
      },
      "source": [
        "# Functions to evaluate the results\n",
        "N.B. Do not change it!"
      ]
    },
    {
      "cell_type": "code",
      "execution_count": 56,
      "metadata": {
        "id": "UvI3icO8_x7E"
      },
      "outputs": [],
      "source": [
        "def efficient_eval(train_features, val_features):\n",
        "  model = DecisionTreeClassifier(max_depth=20, random_state=2024).fit(train_features, y_train)\n",
        "  preds = model.predict(val_features)\n",
        "  return roc_auc_score(y_val, preds)\n",
        "\n",
        "def super_duper_efficient_eval(train_features, val_features):\n",
        "  model = DecisionTreeClassifier(max_depth=4, random_state=2024).fit(train_features, y_train)\n",
        "  preds = model.predict(val_features)\n",
        "  return roc_auc_score(y_val, preds)"
      ]
    },
    {
      "cell_type": "markdown",
      "metadata": {
        "id": "bGWwQICs_4qo"
      },
      "source": [
        "# Functions to write answers to files\n",
        "\n",
        "Don't change the functions, share the files with us in your final submission."
      ]
    },
    {
      "cell_type": "code",
      "execution_count": 57,
      "metadata": {
        "id": "pNdmOEwT_3fk"
      },
      "outputs": [],
      "source": [
        "def efficient_test_predictions(train_features, test_features):\n",
        "  model = DecisionTreeClassifier(max_depth=20, random_state=2024).fit(train_features, y_train)\n",
        "  preds = ['1' if x else '0'\n",
        "           for x in model.predict(test_features)]\n",
        "  with open('efficient_test_predictions.txt', 'w') as f:\n",
        "    f.write(''.join(preds))\n",
        "\n",
        "def super_duper_efficient_test_predictions(train_features, test_features):\n",
        "  model = DecisionTreeClassifier(max_depth=4, random_state=2024).fit(train_features, y_train)\n",
        "  preds = ['1' if x else '0'\n",
        "           for x in model.predict(test_features)]\n",
        "  with open('super_duper_efficient_test_predictions.txt', 'w') as f:\n",
        "    f.write(''.join(preds))"
      ]
    },
    {
      "cell_type": "markdown",
      "metadata": {
        "id": "v27iLKbx_7zw"
      },
      "source": [
        "# Baselines: let's try some simple feature sets!\n",
        "- every 10th element of a flattened array\n",
        "- mean value / standard deviation by each axis"
      ]
    },
    {
      "cell_type": "code",
      "execution_count": 58,
      "metadata": {
        "id": "b18VmQiIyZFT"
      },
      "outputs": [],
      "source": [
        "def min_max_normalization_in_eight_wave(a,axis=None):\n",
        "    a_min, a_max = a.min(), a.max()\n",
        "    return (a-a_min)/(a_max-a_min)"
      ]
    },
    {
      "cell_type": "code",
      "execution_count": 59,
      "metadata": {
        "id": "_OsckJ73GJIZ"
      },
      "outputs": [],
      "source": [
        "def wave_smoothing(arr):\n",
        "    differences = np.abs(np.diff(arr[5:40]))\n",
        "    diff_idx = np.argmax(differences)+5\n",
        "    # print(len(differences), \" \", diff_idx)\n",
        "    arr[:diff_idx+1] += (arr[diff_idx+1]-arr[diff_idx])\n",
        "    return arr"
      ]
    },
    {
      "cell_type": "code",
      "execution_count": 60,
      "metadata": {
        "id": "VFJStbWLoemq"
      },
      "outputs": [],
      "source": [
        "def extract_features_for_each_wave(arr):\n",
        "    max_idx = np.argmax(arr)\n",
        "    min_idx = np.argmin(arr)\n",
        "    max_val = arr[max_idx]\n",
        "    min_val = arr[min_idx]\n",
        "    return np.array([max_val, min_val, max_idx, min_idx])"
      ]
    },
    {
      "cell_type": "code",
      "execution_count": 61,
      "metadata": {
        "id": "7yvD06UlbYEP"
      },
      "outputs": [],
      "source": [
        "from scipy.fft import fft, fftfreq\n",
        "Fs = X_train.shape[1]  # サンプル/秒\n",
        "# サンプル数\n",
        "T = 1.0 / Fs  # サンプリング間隔\n",
        "N = X_train.shape[1]  # サンプル数\n",
        "t = np.linspace(0.0, N*T, N, endpoint=False)"
      ]
    },
    {
      "cell_type": "code",
      "execution_count": 62,
      "metadata": {
        "id": "RCy2YInjeZZf"
      },
      "outputs": [],
      "source": [
        "def extract_fft_features(X, visualize = False):\n",
        "     X_fft = np.abs(fft(X))\n",
        "     if visualize :\n",
        "        print(f\"X_fft shape : {X_fft.shape}\")\n",
        "        plt.subplot(2, 1, 1)\n",
        "        plt.plot(t, X_fft[0])\n",
        "        plt.title('after fft')\n",
        "        plt.xlabel('Time [s]')\n",
        "        plt.ylabel('Amplitude')\n",
        "        plt.show()\n",
        "\n",
        "     X_fft_feature = np.apply_along_axis(extract_features_for_each_wave, 1, X_fft)\n",
        "     return X_fft_feature, X_fft"
      ]
    },
    {
      "cell_type": "code",
      "execution_count": 63,
      "metadata": {
        "id": "XSlMuoKGdWYS"
      },
      "outputs": [],
      "source": [
        "def count_threshold_crossings(arr):\n",
        "    thresholds = np.arange(0.3,0.96,0.05)\n",
        "    crossings = np.zeros(thresholds.shape)\n",
        "    overs = np.zeros(thresholds.shape)\n",
        "    for i, threshold in enumerate(thresholds):\n",
        "        binary_arr = arr > threshold\n",
        "        crossings[i] = np.sum(binary_arr[:-1] != binary_arr[1:])\n",
        "        overs[i] = np.sum(binary_arr)\n",
        "\n",
        "    return np.concatenate([crossings, overs])"
      ]
    },
    {
      "cell_type": "code",
      "execution_count": 64,
      "metadata": {
        "id": "3lFM4hDps9PR"
      },
      "outputs": [],
      "source": [
        "def wave_normalize_and_savgol(X):\n",
        "\n",
        "    simple_feature_before_normalize = np.apply_along_axis(extract_features_for_each_wave, 1, X)\n",
        "\n",
        "    X_normalized = np.array([min_max_normalization_in_eight_wave(x) for x in X])\n",
        "\n",
        "    X_savgol_first = scipy.signal.savgol_filter(X_normalized, 5,2,deriv=0, axis=-1)\n",
        "    savgol_features_first = np.apply_along_axis(extract_features_for_each_wave, 1, X_savgol_first)\n",
        "\n",
        "    X_savgol_second = scipy.signal.savgol_filter(X_normalized, 5,2,deriv=1, axis=-1)\n",
        "    savgol_features_second = np.apply_along_axis(extract_features_for_each_wave, 1, X_savgol_second)\n",
        "\n",
        "    X_savgol_third = scipy.signal.savgol_filter(X_normalized, 5,2,deriv=2, axis=-1)\n",
        "    savgol_features_third = np.apply_along_axis(extract_features_for_each_wave, 1, X_savgol_third)\n",
        "\n",
        "    threshold_crossings = np.apply_along_axis(count_threshold_crossings, 1, X_normalized)\n",
        "\n",
        "    X_fft_feature, X_fft = extract_fft_features(X_normalized)\n",
        "\n",
        "    Y = np.concatenate([simple_feature_before_normalize, savgol_features_first,savgol_features_second,savgol_features_third, threshold_crossings, X_fft_feature, X_normalized, X_savgol_first, X_savgol_second],axis=1)\n",
        "    return Y.reshape((Y.shape[0],-1))"
      ]
    },
    {
      "cell_type": "code",
      "execution_count": 65,
      "metadata": {
        "colab": {
          "base_uri": "https://localhost:8080/"
        },
        "id": "Chzd3N0iH4kx",
        "outputId": "09760055-afeb-4b1a-fef7-1804a7b5b9d2"
      },
      "outputs": [
        {
          "output_type": "stream",
          "name": "stdout",
          "text": [
            "CPU times: user 57.5 s, sys: 7.03 s, total: 1min 4s\n",
            "Wall time: 1min 1s\n"
          ]
        }
      ],
      "source": [
        "%time a = wave_normalize_and_savgol(X_train)"
      ]
    },
    {
      "cell_type": "code",
      "execution_count": 66,
      "metadata": {
        "id": "9FOEP6nmH4jm",
        "colab": {
          "base_uri": "https://localhost:8080/"
        },
        "outputId": "1d2b7206-d383-48f2-fb05-b2cebaea230a"
      },
      "outputs": [
        {
          "output_type": "execute_result",
          "data": {
            "text/plain": [
              "(20240, 4872)"
            ]
          },
          "metadata": {},
          "execution_count": 66
        }
      ],
      "source": [
        "a.shape"
      ]
    },
    {
      "cell_type": "code",
      "execution_count": 67,
      "metadata": {
        "id": "ISHOo044E7Yw"
      },
      "outputs": [],
      "source": [
        "import time\n",
        "def both_evavluate(train, val, normal_transform_func, super_transform_func):\n",
        "    start = time.time()\n",
        "    print(\"normal transform time\")\n",
        "    %time normal_transformed_train = normal_transform_func(train)\n",
        "    %time normal_transformed_val = normal_transform_func(val)\n",
        "    transform_time = time.time()-start\n",
        "\n",
        "    print(\"\\nsuper transform time\")\n",
        "    %time super_transformed_train = super_transform_func(train)\n",
        "    %time super_transformed_val = super_transform_func(val)\n",
        "    start = time.time()\n",
        "\n",
        "    print()\n",
        "\n",
        "    %time print(f\"efficient eval score : {efficient_eval(normal_transformed_train,normal_transformed_val)}\")\n",
        "    total_time = time.time()-start+transform_time\n",
        "    print(\"e_time{0}\".format(total_time)+\"[s]\")\n",
        "    %time print(f\"super duper efficient eval score : {super_duper_efficient_eval(super_transformed_train,super_transformed_val)}\")"
      ]
    },
    {
      "cell_type": "code",
      "execution_count": 68,
      "metadata": {
        "id": "GZUDs9PE9l_3",
        "colab": {
          "base_uri": "https://localhost:8080/"
        },
        "outputId": "4cef7bcd-51fd-40fd-fbb9-228a0e111d1a"
      },
      "outputs": [
        {
          "output_type": "stream",
          "name": "stdout",
          "text": [
            "normal transform time\n",
            "CPU times: user 59.4 s, sys: 6.58 s, total: 1min 5s\n",
            "Wall time: 1min 3s\n",
            "CPU times: user 4.48 s, sys: 646 ms, total: 5.13 s\n",
            "Wall time: 4.99 s\n",
            "\n",
            " super transform time\n",
            "CPU times: user 58.9 s, sys: 6.33 s, total: 1min 5s\n",
            "Wall time: 1min 2s\n",
            "CPU times: user 4.2 s, sys: 672 ms, total: 4.87 s\n",
            "Wall time: 4.05 s\n",
            "\n",
            "efficient eval score : 0.9193389857335191\n",
            "CPU times: user 4min 21s, sys: 276 ms, total: 4min 21s\n",
            "Wall time: 4min 23s\n",
            "e_time332.72352027893066[s]\n",
            "super duper efficient eval score : 0.9007941237965528\n",
            "CPU times: user 1min 4s, sys: 270 ms, total: 1min 4s\n",
            "Wall time: 1min 5s\n"
          ]
        }
      ],
      "source": [
        "both_evavluate(X_train, X_val, wave_normalize_and_savgol, wave_normalize_and_savgol)"
      ]
    },
    {
      "cell_type": "code",
      "execution_count": 69,
      "metadata": {
        "id": "jeDnPP8ukSZI"
      },
      "outputs": [],
      "source": [
        "# from sklearn.tree import DecisionTreeClassifier, plot_tree\n",
        "# model = DecisionTreeClassifier(max_depth=4, random_state=2024).fit(wave_normalize_and_savgol(X_train), y_train)\n",
        "# plt.figure(figsize=(15, 10))\n",
        "# plot_tree(model, filled=True)"
      ]
    }
  ],
  "metadata": {
    "colab": {
      "provenance": []
    },
    "kernelspec": {
      "display_name": "Python 3",
      "name": "python3"
    },
    "language_info": {
      "name": "python"
    }
  },
  "nbformat": 4,
  "nbformat_minor": 0
}