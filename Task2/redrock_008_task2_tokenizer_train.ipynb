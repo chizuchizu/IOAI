{
  "cells": [
    {
      "cell_type": "markdown",
      "metadata": {
        "id": "view-in-github",
        "colab_type": "text"
      },
      "source": [
        "<a href=\"https://colab.research.google.com/github/chizuchizu/IOAI/blob/main/Task2/redrock_008_task2_tokenizer_train.ipynb\" target=\"_parent\"><img src=\"https://colab.research.google.com/assets/colab-badge.svg\" alt=\"Open In Colab\"/></a>"
      ]
    },
    {
      "cell_type": "code",
      "execution_count": 1,
      "metadata": {
        "id": "sV85hgL0yxn0"
      },
      "outputs": [],
      "source": [
        "from google.colab import userdata\n",
        "\n",
        "read_access_token = userdata.get('hf_read')\n",
        "write_access_token = userdata.get('hf_write')"
      ]
    },
    {
      "cell_type": "markdown",
      "metadata": {
        "id": "SyLH6A-YEJG3"
      },
      "source": [
        "### Dependencies"
      ]
    },
    {
      "cell_type": "code",
      "execution_count": 2,
      "metadata": {
        "collapsed": true,
        "id": "8VH0WJYuM_4Z"
      },
      "outputs": [],
      "source": [
        "import importlib\n",
        "import torch, transformers\n",
        "\n",
        "if '2.3.0' not in torch.__version__:\n",
        "  !pip install torch==2.3.0\n",
        "if transformers.__version__!='4.41.2':\n",
        "  !pip install transformers==4.41.2\n",
        "\n",
        "if importlib.util.find_spec('datasets') is None:\n",
        "  !pip install datasets==2.18.0\n",
        "  !pip install evaluate==0.4.2\n",
        "  !pip install accelerate -U\n",
        "\n",
        "if importlib.util.find_spec(\"wandb\") is None:\n",
        "  !pip install wandb -q"
      ]
    },
    {
      "cell_type": "markdown",
      "metadata": {
        "id": "zridt_PWpd9d"
      },
      "source": [
        "If you've just installed `accelerate`, execute `Runtime > Restart session and run all` in the Colab UI menu above."
      ]
    },
    {
      "cell_type": "code",
      "execution_count": 3,
      "metadata": {
        "id": "eoEpqfXmjimD"
      },
      "outputs": [],
      "source": [
        "import os\n",
        "import numpy as np\n",
        "\n",
        "import torch\n",
        "import torch.nn as nn\n",
        "import torch.optim as optim\n",
        "from torch.utils.data import DataLoader\n",
        "from torch.functional import F\n",
        "\n",
        "import torchvision\n",
        "from torchvision import datasets, transforms, models\n",
        "\n",
        "from tqdm.auto import tqdm\n",
        "\n",
        "from transformers import AutoModelForSequenceClassification, AutoTokenizer, DataCollatorWithPadding, get_scheduler, BertForMaskedLM, BertTokenizer\n",
        "from transformers import DataCollatorForLanguageModeling\n",
        "from datasets import load_dataset, Dataset, DatasetDict\n",
        "\n",
        "import torch.cuda.amp as amp # or import torch.cuda.amp as amp for PyTorch's native amp\n",
        "\n",
        "\n",
        "import evaluate\n",
        "import wandb"
      ]
    },
    {
      "cell_type": "code",
      "execution_count": 4,
      "metadata": {
        "id": "BlRLkPdokFYS"
      },
      "outputs": [],
      "source": [
        "# ====================================================\n",
        "# CFG\n",
        "# ====================================================\n",
        "\n",
        "class CFG:\n",
        "    num_workers=4\n",
        "    project = \"IOAI_Task2\"\n",
        "    name = \"redrock_008_task2_tokenizer_train\"\n",
        "\n",
        "    # model\n",
        "    base_model_name = \"google-bert/bert-base-multilingual-uncased\"\n",
        "    tokenizer_name = \"google-bert/bert-base-multilingual-uncased\"\n",
        "    mlm_probability = 0.15\n",
        "\n",
        "    # training\n",
        "    epochs = 1\n",
        "\n",
        "    scheduler='CosineAnnealingLR' # ['ReduceLROnPlateau', 'CosineAnnealingLR', 'CosineAnnealingWarmRestarts']\n",
        "\n",
        "    lr = 5e-05\n",
        "\n",
        "    # dataset\n",
        "    max_length = 256\n",
        "\n",
        "    # T4: 32\n",
        "    # L4: 64\n",
        "    train_batch_size = 32\n",
        "\n",
        "    seed=42\n",
        "    train=True"
      ]
    },
    {
      "cell_type": "code",
      "execution_count": 5,
      "metadata": {
        "colab": {
          "base_uri": "https://localhost:8080/"
        },
        "id": "Vtst60t7FhsP",
        "outputId": "d60086e8-d919-43b1-9f11-9ac1fb0d4c0b"
      },
      "outputs": [
        {
          "output_type": "stream",
          "name": "stderr",
          "text": [
            "\u001b[34m\u001b[1mwandb\u001b[0m: Currently logged in as: \u001b[33masiatic-cheetah\u001b[0m (\u001b[33masiatic-cheetah-a\u001b[0m). Use \u001b[1m`wandb login --relogin`\u001b[0m to force relogin\n",
            "\u001b[34m\u001b[1mwandb\u001b[0m: \u001b[33mWARNING\u001b[0m If you're specifying your api key in code, ensure this code is not shared publicly.\n",
            "\u001b[34m\u001b[1mwandb\u001b[0m: \u001b[33mWARNING\u001b[0m Consider setting the WANDB_API_KEY environment variable, or running `wandb login` from the command line.\n",
            "\u001b[34m\u001b[1mwandb\u001b[0m: Appending key for api.wandb.ai to your netrc file: /root/.netrc\n"
          ]
        },
        {
          "output_type": "execute_result",
          "data": {
            "text/plain": [
              "True"
            ]
          },
          "metadata": {},
          "execution_count": 5
        }
      ],
      "source": [
        "wandb.login(key=userdata.get('wandb_token'))"
      ]
    },
    {
      "cell_type": "code",
      "execution_count": 6,
      "metadata": {
        "id": "Cd4JCvv7Gb1q"
      },
      "outputs": [],
      "source": [
        "# for wandb\n",
        "cfg = dict(vars(CFG))\n",
        "cfg = {k: v for k, v in cfg.items() if \"__\" not in k}"
      ]
    },
    {
      "cell_type": "code",
      "execution_count": 41,
      "metadata": {
        "id": "7kHv4eKZGN9o"
      },
      "outputs": [],
      "source": [
        "# classification_dataset = load_dataset('InternationalOlympiadAI/NLP_problem', token=read_access_token)\n",
        "# tokenizer = AutoTokenizer.from_pretrained(CFG.base_model_name)\n",
        "brahmi_to_devanagari = {\n",
        "    '𑀓': 'क', '𑀔': 'ख', '𑀕': 'ग', '𑀖': 'घ', '𑀗': 'ङ', '𑀘': 'च', '𑀙': 'छ',\n",
        "    '𑀚': 'ज', '𑀛': 'झ', '𑀜': 'ञ', '𑀝': 'ट', '𑀞': 'ठ', '𑀟': 'ड', '𑀠': 'ढ',\n",
        "    '𑀡': 'ण', '𑀢': 'त', '𑀣': 'थ', '𑀤': 'द', '𑀥': 'ध', '𑀦': 'न', '𑀧': 'प',\n",
        "    '𑀨': 'फ', '𑀩': 'ब', '𑀪': 'भ', '𑀫': 'म', '𑀬': 'य', '𑀭': 'र', '𑀮': 'ल',\n",
        "    '𑀯': 'व', '𑀰': 'श', '𑀱': 'ष', '𑀲': 'स', '𑀳': 'ह', '𑁦':'ऻ', '𑁣': 'ॉ'\n",
        "}\n",
        "\n",
        "def transliterate_brahmi_to_devanagari(text):\n",
        "    transliterated_text = ''\n",
        "    for char in text:\n",
        "        if char in brahmi_to_devanagari:\n",
        "            transliterated_text += brahmi_to_devanagari[char]\n",
        "        else:\n",
        "            transliterated_text += char\n",
        "    return transliterated_text"
      ]
    },
    {
      "cell_type": "code",
      "source": [
        "raw_dataset = load_dataset('InternationalOlympiadAI/NLP_problem_raw', token=read_access_token)"
      ],
      "metadata": {
        "id": "eA0iFrn12qnV"
      },
      "execution_count": 8,
      "outputs": []
    },
    {
      "cell_type": "code",
      "source": [
        "!git clone https://github.com/libindic/indic-trans.git"
      ],
      "metadata": {
        "colab": {
          "base_uri": "https://localhost:8080/"
        },
        "id": "0lYFo74qQSHq",
        "outputId": "462ba7b4-8412-44b1-dac5-1ea38664d4eb"
      },
      "execution_count": 9,
      "outputs": [
        {
          "output_type": "stream",
          "name": "stdout",
          "text": [
            "fatal: destination path 'indic-trans' already exists and is not an empty directory.\n"
          ]
        }
      ]
    },
    {
      "cell_type": "code",
      "source": [
        "!pip install -r ./indic-trans/requirements.txt\n",
        "!pip install ./indic-trans/"
      ],
      "metadata": {
        "colab": {
          "base_uri": "https://localhost:8080/"
        },
        "id": "adECua3QO6Pn",
        "outputId": "f85a556e-e5d0-44da-ef61-421fd9795866"
      },
      "execution_count": 10,
      "outputs": [
        {
          "output_type": "stream",
          "name": "stdout",
          "text": [
            "Requirement already satisfied: pbr in /usr/local/lib/python3.10/dist-packages (from -r ./indic-trans/requirements.txt (line 1)) (6.0.0)\n",
            "Requirement already satisfied: six in /usr/local/lib/python3.10/dist-packages (from -r ./indic-trans/requirements.txt (line 2)) (1.16.0)\n",
            "Requirement already satisfied: future in /usr/local/lib/python3.10/dist-packages (from -r ./indic-trans/requirements.txt (line 3)) (0.18.3)\n",
            "Requirement already satisfied: cython>=0.24.0a0 in /usr/local/lib/python3.10/dist-packages (from -r ./indic-trans/requirements.txt (line 4)) (3.0.10)\n",
            "Requirement already satisfied: numpy>=1.10.4 in /usr/local/lib/python3.10/dist-packages (from -r ./indic-trans/requirements.txt (line 5)) (1.25.2)\n",
            "Requirement already satisfied: scipy>=0.13.3 in /usr/local/lib/python3.10/dist-packages (from -r ./indic-trans/requirements.txt (line 6)) (1.11.4)\n",
            "Processing ./indic-trans\n",
            "  Installing build dependencies ... \u001b[?25l\u001b[?25hdone\n",
            "  Getting requirements to build wheel ... \u001b[?25l\u001b[?25hdone\n",
            "  Installing backend dependencies ... \u001b[?25l\u001b[?25hdone\n",
            "  Preparing metadata (pyproject.toml) ... \u001b[?25l\u001b[?25hdone\n",
            "Requirement already satisfied: pbr in /usr/local/lib/python3.10/dist-packages (from indictrans==1.2.3) (6.0.0)\n",
            "Requirement already satisfied: six in /usr/local/lib/python3.10/dist-packages (from indictrans==1.2.3) (1.16.0)\n",
            "Requirement already satisfied: future in /usr/local/lib/python3.10/dist-packages (from indictrans==1.2.3) (0.18.3)\n",
            "Requirement already satisfied: cython>=0.24.0a0 in /usr/local/lib/python3.10/dist-packages (from indictrans==1.2.3) (3.0.10)\n",
            "Requirement already satisfied: numpy>=1.10.4 in /usr/local/lib/python3.10/dist-packages (from indictrans==1.2.3) (1.25.2)\n",
            "Requirement already satisfied: scipy>=0.13.3 in /usr/local/lib/python3.10/dist-packages (from indictrans==1.2.3) (1.11.4)\n",
            "Building wheels for collected packages: indictrans\n",
            "  Building wheel for indictrans (pyproject.toml) ... \u001b[?25l\u001b[?25hdone\n",
            "  Created wheel for indictrans: filename=indictrans-1.2.3-cp310-cp310-linux_x86_64.whl size=337821164 sha256=ee2d7dedaf67dba2504c4de78d0cac738cad68d5e6c4e3db255268d26a664c72\n",
            "  Stored in directory: /root/.cache/pip/wheels/3e/c9/43/39c5aaa9a570043089bac219a37343294fa5b47f1350dea53a\n",
            "Successfully built indictrans\n",
            "Installing collected packages: indictrans\n",
            "  Attempting uninstall: indictrans\n",
            "    Found existing installation: indictrans 1.2.3\n",
            "    Uninstalling indictrans-1.2.3:\n",
            "      Successfully uninstalled indictrans-1.2.3\n",
            "Successfully installed indictrans-1.2.3\n"
          ]
        }
      ]
    },
    {
      "cell_type": "code",
      "source": [
        "from indictrans import Transliterator\n",
        "\n",
        "trn = Transliterator(source='hin', target='eng', build_lookup=True, rb=True)\n",
        "\n",
        "print(transliterate_brahmi_to_devanagari(raw_dataset[\"train\"][\"text\"][0]))\n",
        "\n",
        "transliterate_dict = {}\n",
        "\n",
        "for key, value in brahmi_to_devanagari.items():\n",
        "    transliterate_dict[value] = trn.transform(value)\n",
        "    if len(transliterate_dict[value]) == 0:\n",
        "        transliterate_dict[value] = \"o\"\n",
        "\n",
        "print(transliterate_dict)\n",
        "\n",
        "def transliterate_text(text):\n",
        "    for key, value in transliterate_dict.items():\n",
        "        text = text.replace(key, value)\n",
        "    return text\n",
        "\n",
        "def transliterate_to_latin(text):\n",
        "    transliterated_text = ''\n",
        "    for char in text:\n",
        "        if char in brahmi_to_devanagari:\n",
        "            transliterated_text += transliterate_text(brahmi_to_devanagari[char])\n",
        "        else:\n",
        "            transliterated_text += transliterate_text(char)\n",
        "    return transliterated_text\n",
        "\n",
        "print(transliterate_to_latin(raw_dataset[\"train\"][\"text\"][0]))\n"
      ],
      "metadata": {
        "colab": {
          "base_uri": "https://localhost:8080/"
        },
        "id": "grLbxLBw-dfz",
        "outputId": "4bb02176-3e4e-4ac7-bd07-1d895a31818e"
      },
      "execution_count": 42,
      "outputs": [
        {
          "output_type": "stream",
          "name": "stdout",
          "text": [
            "  मचठचडचड दचछच तणच चढसचडत थच बऻडॉपणधऻ थॉड ठॉढचषच दनषच चललऻलऻह ठॉ ढचढढचडतऻषढचढढचडतऻड थच ढनपनढ ठऻ ञचनठच च ततठतड षचडत पचठचढचतढचड दनढतड मचलतपपच ठॉ षनभतड ठषचणॉणतड मचलतपपचव\n",
            "{'क': 'k', 'ख': 'kha', 'ग': 'ga', 'घ': 'gha', 'ङ': 'ng', 'च': 'c', 'छ': 'chha', 'ज': 'ja', 'झ': 'jha', 'ञ': 'na', 'ट': 't', 'ठ': 'tha', 'ड': 'da', 'ढ': 'dha', 'ण': 'na', 'त': 't', 'थ': 'tha', 'द': 'da', 'ध': 'dha', 'न': 'na', 'प': 'pa', 'फ': 'pha', 'ब': 'ba', 'भ': 'bha', 'म': 'm', 'य': 'ya', 'र': 'r', 'ल': 'l', 'व': 'va', 'श': 'sha', 'ष': 'sha', 'स': 'sa', 'ह': 'ha', 'ऻ': 'o', 'ॉ': 'o'}\n",
            "  mcthacdacda dacchhac tnac cdhasacdat thac baodaopanadhao thaoda thaodhacshac danashac clloloha thao dhacdhadhacdatoshadhacdhadhacdatoda thac dhanapanadha thao nacnathac c ttthatda shacdat pacthacdhactdhacda danadhatda mcltpapac thao shanabhatda thashacnaonatda mcltpapacva\n"
          ]
        }
      ]
    },
    {
      "cell_type": "code",
      "source": [
        "train_corpus = []\n",
        "\n",
        "from joblib import Parallel, delayed\n",
        "\n",
        "num_cores = 8\n",
        "\n",
        "def process_text(x):\n",
        "    return transliterate_to_latin(x)\n",
        "\n",
        "train_corpus = Parallel(n_jobs=-1)(delayed(process_text)(x) for x in tqdm(raw_dataset['train'][\"text\"]))"
      ],
      "metadata": {
        "colab": {
          "base_uri": "https://localhost:8080/",
          "height": 49,
          "referenced_widgets": [
            "bcb6e0b4473f432db7fd80ba487b556f",
            "f2c83fcae2bd46d986b04e0cbb5ef3b5",
            "df99bba25ee44f979e15ee27b5d881f1",
            "f3ce2422d0b44941a948c679b40edfaf",
            "f27205418ee34cd68258940622cfa09a",
            "37173c98f3fc4db99378386114faf3c7",
            "8ddc16b312864c82a98167bc5b21733c",
            "8fb338c956df4d6296e42ad62cf66fe5",
            "37ff97ed71064ffa85d67ba5b69c2d9f",
            "8784c685c1254d35a0c6374e6131d39d",
            "3009f87056374b9e8b92c84ce61cf7e9"
          ]
        },
        "id": "tReNK77G3arb",
        "outputId": "69b6b539-b22d-4be7-f406-97c9536e9b05"
      },
      "execution_count": 43,
      "outputs": [
        {
          "output_type": "display_data",
          "data": {
            "text/plain": [
              "  0%|          | 0/611245 [00:00<?, ?it/s]"
            ],
            "application/vnd.jupyter.widget-view+json": {
              "version_major": 2,
              "version_minor": 0,
              "model_id": "bcb6e0b4473f432db7fd80ba487b556f"
            }
          },
          "metadata": {}
        }
      ]
    },
    {
      "cell_type": "code",
      "source": [
        "old_tokenizer = AutoTokenizer.from_pretrained(CFG.base_model_name)\n",
        "\n",
        "tokenizer = old_tokenizer.train_new_from_iterator(train_corpus, old_tokenizer.vocab_size)"
      ],
      "metadata": {
        "id": "60R1jIgi2tzP"
      },
      "execution_count": 44,
      "outputs": []
    },
    {
      "cell_type": "code",
      "source": [
        "print(transliterate_to_latin(raw_dataset[\"train\"][\"text\"][0]))\n",
        "print(tokenizer.tokenize(transliterate_to_latin(raw_dataset[\"train\"][\"text\"][0])))"
      ],
      "metadata": {
        "colab": {
          "base_uri": "https://localhost:8080/"
        },
        "id": "5ixOofjF8PDJ",
        "outputId": "1b3269dc-dd21-42a5-f9e2-01a261ea1955"
      },
      "execution_count": 46,
      "outputs": [
        {
          "output_type": "stream",
          "name": "stdout",
          "text": [
            "  mcthacdacda dacchhac tnac cdhasacdat thac baodaopanadhao thaoda thaodhacshac danashac clloloha thao dhacdhadhacdatoshadhacdhadhacdatoda thac dhanapanadha thao nacnathac c ttthatda shacdat pacthacdhactdhacda danadhatda mcltpapac thao shanabhatda thashacnaonatda mcltpapacva\n",
            "['mcthacdacda', 'dacchhac', 'tnac', 'cdhasacdat', 'thac', 'baodaopanadhao', 'thaoda', 'thaodhacshac', 'danashac', 'clloloha', 'thao', 'dhacdhadhacdatoshadhacdhadhacdatoda', 'thac', 'dhanapanadha', 'thao', 'nacnathac', 'c', 'ttthatda', 'shacdat', 'pacthacdhactdhacda', 'danadhatda', 'mcltpapac', 'thao', 'shanabhatda', 'thashacnaonatda', 'mcltpapacva']\n"
          ]
        }
      ]
    },
    {
      "cell_type": "code",
      "source": [
        "tokenizer.push_to_hub(\"ioai2024japan/redrock_008_task2_tokenizer\", private=True, token=write_access_token)"
      ],
      "metadata": {
        "colab": {
          "base_uri": "https://localhost:8080/",
          "height": 54
        },
        "id": "i8ZMzlwy6rHa",
        "outputId": "a26c2527-7ef4-4158-9bab-7e8b0612eedc"
      },
      "execution_count": 47,
      "outputs": [
        {
          "output_type": "execute_result",
          "data": {
            "text/plain": [
              "CommitInfo(commit_url='https://huggingface.co/ioai2024japan/redrock_008_task2_tokenizer/commit/5b33175eb1f8ac33748faa9d23c130665502d8f1', commit_message='Upload tokenizer', commit_description='', oid='5b33175eb1f8ac33748faa9d23c130665502d8f1', pr_url=None, pr_revision=None, pr_num=None)"
            ],
            "application/vnd.google.colaboratory.intrinsic+json": {
              "type": "string"
            }
          },
          "metadata": {},
          "execution_count": 47
        }
      ]
    },
    {
      "cell_type": "code",
      "execution_count": 48,
      "metadata": {
        "id": "8N7Lywx-QKcq"
      },
      "outputs": [],
      "source": [
        "def terminate_session():\n",
        "    # Terminate this session\n",
        "\n",
        "    from google.colab import runtime\n",
        "    runtime.unassign()"
      ]
    },
    {
      "cell_type": "code",
      "execution_count": 49,
      "metadata": {
        "id": "XWPGqQL6QMIR"
      },
      "outputs": [],
      "source": [
        "terminate_session()"
      ]
    },
    {
      "cell_type": "code",
      "execution_count": null,
      "metadata": {
        "id": "gKdb2GI5vzO7"
      },
      "outputs": [],
      "source": [
        "import gc\n",
        "import torch\n",
        "\n",
        "def flush():\n",
        "  gc.collect()\n",
        "  torch.cuda.empty_cache()\n",
        "flush()"
      ]
    }
  ],
  "metadata": {
    "accelerator": "GPU",
    "colab": {
      "gpuType": "T4",
      "machine_shape": "hm",
      "provenance": [],
      "include_colab_link": true
    },
    "kernelspec": {
      "display_name": "Python 3",
      "name": "python3"
    },
    "language_info": {
      "name": "python"
    },
    "widgets": {
      "application/vnd.jupyter.widget-state+json": {
        "bcb6e0b4473f432db7fd80ba487b556f": {
          "model_module": "@jupyter-widgets/controls",
          "model_name": "HBoxModel",
          "model_module_version": "1.5.0",
          "state": {
            "_dom_classes": [],
            "_model_module": "@jupyter-widgets/controls",
            "_model_module_version": "1.5.0",
            "_model_name": "HBoxModel",
            "_view_count": null,
            "_view_module": "@jupyter-widgets/controls",
            "_view_module_version": "1.5.0",
            "_view_name": "HBoxView",
            "box_style": "",
            "children": [
              "IPY_MODEL_f2c83fcae2bd46d986b04e0cbb5ef3b5",
              "IPY_MODEL_df99bba25ee44f979e15ee27b5d881f1",
              "IPY_MODEL_f3ce2422d0b44941a948c679b40edfaf"
            ],
            "layout": "IPY_MODEL_f27205418ee34cd68258940622cfa09a"
          }
        },
        "f2c83fcae2bd46d986b04e0cbb5ef3b5": {
          "model_module": "@jupyter-widgets/controls",
          "model_name": "HTMLModel",
          "model_module_version": "1.5.0",
          "state": {
            "_dom_classes": [],
            "_model_module": "@jupyter-widgets/controls",
            "_model_module_version": "1.5.0",
            "_model_name": "HTMLModel",
            "_view_count": null,
            "_view_module": "@jupyter-widgets/controls",
            "_view_module_version": "1.5.0",
            "_view_name": "HTMLView",
            "description": "",
            "description_tooltip": null,
            "layout": "IPY_MODEL_37173c98f3fc4db99378386114faf3c7",
            "placeholder": "​",
            "style": "IPY_MODEL_8ddc16b312864c82a98167bc5b21733c",
            "value": "100%"
          }
        },
        "df99bba25ee44f979e15ee27b5d881f1": {
          "model_module": "@jupyter-widgets/controls",
          "model_name": "FloatProgressModel",
          "model_module_version": "1.5.0",
          "state": {
            "_dom_classes": [],
            "_model_module": "@jupyter-widgets/controls",
            "_model_module_version": "1.5.0",
            "_model_name": "FloatProgressModel",
            "_view_count": null,
            "_view_module": "@jupyter-widgets/controls",
            "_view_module_version": "1.5.0",
            "_view_name": "ProgressView",
            "bar_style": "success",
            "description": "",
            "description_tooltip": null,
            "layout": "IPY_MODEL_8fb338c956df4d6296e42ad62cf66fe5",
            "max": 611245,
            "min": 0,
            "orientation": "horizontal",
            "style": "IPY_MODEL_37ff97ed71064ffa85d67ba5b69c2d9f",
            "value": 611245
          }
        },
        "f3ce2422d0b44941a948c679b40edfaf": {
          "model_module": "@jupyter-widgets/controls",
          "model_name": "HTMLModel",
          "model_module_version": "1.5.0",
          "state": {
            "_dom_classes": [],
            "_model_module": "@jupyter-widgets/controls",
            "_model_module_version": "1.5.0",
            "_model_name": "HTMLModel",
            "_view_count": null,
            "_view_module": "@jupyter-widgets/controls",
            "_view_module_version": "1.5.0",
            "_view_name": "HTMLView",
            "description": "",
            "description_tooltip": null,
            "layout": "IPY_MODEL_8784c685c1254d35a0c6374e6131d39d",
            "placeholder": "​",
            "style": "IPY_MODEL_3009f87056374b9e8b92c84ce61cf7e9",
            "value": " 611245/611245 [01:06&lt;00:00, 9163.81it/s]"
          }
        },
        "f27205418ee34cd68258940622cfa09a": {
          "model_module": "@jupyter-widgets/base",
          "model_name": "LayoutModel",
          "model_module_version": "1.2.0",
          "state": {
            "_model_module": "@jupyter-widgets/base",
            "_model_module_version": "1.2.0",
            "_model_name": "LayoutModel",
            "_view_count": null,
            "_view_module": "@jupyter-widgets/base",
            "_view_module_version": "1.2.0",
            "_view_name": "LayoutView",
            "align_content": null,
            "align_items": null,
            "align_self": null,
            "border": null,
            "bottom": null,
            "display": null,
            "flex": null,
            "flex_flow": null,
            "grid_area": null,
            "grid_auto_columns": null,
            "grid_auto_flow": null,
            "grid_auto_rows": null,
            "grid_column": null,
            "grid_gap": null,
            "grid_row": null,
            "grid_template_areas": null,
            "grid_template_columns": null,
            "grid_template_rows": null,
            "height": null,
            "justify_content": null,
            "justify_items": null,
            "left": null,
            "margin": null,
            "max_height": null,
            "max_width": null,
            "min_height": null,
            "min_width": null,
            "object_fit": null,
            "object_position": null,
            "order": null,
            "overflow": null,
            "overflow_x": null,
            "overflow_y": null,
            "padding": null,
            "right": null,
            "top": null,
            "visibility": null,
            "width": null
          }
        },
        "37173c98f3fc4db99378386114faf3c7": {
          "model_module": "@jupyter-widgets/base",
          "model_name": "LayoutModel",
          "model_module_version": "1.2.0",
          "state": {
            "_model_module": "@jupyter-widgets/base",
            "_model_module_version": "1.2.0",
            "_model_name": "LayoutModel",
            "_view_count": null,
            "_view_module": "@jupyter-widgets/base",
            "_view_module_version": "1.2.0",
            "_view_name": "LayoutView",
            "align_content": null,
            "align_items": null,
            "align_self": null,
            "border": null,
            "bottom": null,
            "display": null,
            "flex": null,
            "flex_flow": null,
            "grid_area": null,
            "grid_auto_columns": null,
            "grid_auto_flow": null,
            "grid_auto_rows": null,
            "grid_column": null,
            "grid_gap": null,
            "grid_row": null,
            "grid_template_areas": null,
            "grid_template_columns": null,
            "grid_template_rows": null,
            "height": null,
            "justify_content": null,
            "justify_items": null,
            "left": null,
            "margin": null,
            "max_height": null,
            "max_width": null,
            "min_height": null,
            "min_width": null,
            "object_fit": null,
            "object_position": null,
            "order": null,
            "overflow": null,
            "overflow_x": null,
            "overflow_y": null,
            "padding": null,
            "right": null,
            "top": null,
            "visibility": null,
            "width": null
          }
        },
        "8ddc16b312864c82a98167bc5b21733c": {
          "model_module": "@jupyter-widgets/controls",
          "model_name": "DescriptionStyleModel",
          "model_module_version": "1.5.0",
          "state": {
            "_model_module": "@jupyter-widgets/controls",
            "_model_module_version": "1.5.0",
            "_model_name": "DescriptionStyleModel",
            "_view_count": null,
            "_view_module": "@jupyter-widgets/base",
            "_view_module_version": "1.2.0",
            "_view_name": "StyleView",
            "description_width": ""
          }
        },
        "8fb338c956df4d6296e42ad62cf66fe5": {
          "model_module": "@jupyter-widgets/base",
          "model_name": "LayoutModel",
          "model_module_version": "1.2.0",
          "state": {
            "_model_module": "@jupyter-widgets/base",
            "_model_module_version": "1.2.0",
            "_model_name": "LayoutModel",
            "_view_count": null,
            "_view_module": "@jupyter-widgets/base",
            "_view_module_version": "1.2.0",
            "_view_name": "LayoutView",
            "align_content": null,
            "align_items": null,
            "align_self": null,
            "border": null,
            "bottom": null,
            "display": null,
            "flex": null,
            "flex_flow": null,
            "grid_area": null,
            "grid_auto_columns": null,
            "grid_auto_flow": null,
            "grid_auto_rows": null,
            "grid_column": null,
            "grid_gap": null,
            "grid_row": null,
            "grid_template_areas": null,
            "grid_template_columns": null,
            "grid_template_rows": null,
            "height": null,
            "justify_content": null,
            "justify_items": null,
            "left": null,
            "margin": null,
            "max_height": null,
            "max_width": null,
            "min_height": null,
            "min_width": null,
            "object_fit": null,
            "object_position": null,
            "order": null,
            "overflow": null,
            "overflow_x": null,
            "overflow_y": null,
            "padding": null,
            "right": null,
            "top": null,
            "visibility": null,
            "width": null
          }
        },
        "37ff97ed71064ffa85d67ba5b69c2d9f": {
          "model_module": "@jupyter-widgets/controls",
          "model_name": "ProgressStyleModel",
          "model_module_version": "1.5.0",
          "state": {
            "_model_module": "@jupyter-widgets/controls",
            "_model_module_version": "1.5.0",
            "_model_name": "ProgressStyleModel",
            "_view_count": null,
            "_view_module": "@jupyter-widgets/base",
            "_view_module_version": "1.2.0",
            "_view_name": "StyleView",
            "bar_color": null,
            "description_width": ""
          }
        },
        "8784c685c1254d35a0c6374e6131d39d": {
          "model_module": "@jupyter-widgets/base",
          "model_name": "LayoutModel",
          "model_module_version": "1.2.0",
          "state": {
            "_model_module": "@jupyter-widgets/base",
            "_model_module_version": "1.2.0",
            "_model_name": "LayoutModel",
            "_view_count": null,
            "_view_module": "@jupyter-widgets/base",
            "_view_module_version": "1.2.0",
            "_view_name": "LayoutView",
            "align_content": null,
            "align_items": null,
            "align_self": null,
            "border": null,
            "bottom": null,
            "display": null,
            "flex": null,
            "flex_flow": null,
            "grid_area": null,
            "grid_auto_columns": null,
            "grid_auto_flow": null,
            "grid_auto_rows": null,
            "grid_column": null,
            "grid_gap": null,
            "grid_row": null,
            "grid_template_areas": null,
            "grid_template_columns": null,
            "grid_template_rows": null,
            "height": null,
            "justify_content": null,
            "justify_items": null,
            "left": null,
            "margin": null,
            "max_height": null,
            "max_width": null,
            "min_height": null,
            "min_width": null,
            "object_fit": null,
            "object_position": null,
            "order": null,
            "overflow": null,
            "overflow_x": null,
            "overflow_y": null,
            "padding": null,
            "right": null,
            "top": null,
            "visibility": null,
            "width": null
          }
        },
        "3009f87056374b9e8b92c84ce61cf7e9": {
          "model_module": "@jupyter-widgets/controls",
          "model_name": "DescriptionStyleModel",
          "model_module_version": "1.5.0",
          "state": {
            "_model_module": "@jupyter-widgets/controls",
            "_model_module_version": "1.5.0",
            "_model_name": "DescriptionStyleModel",
            "_view_count": null,
            "_view_module": "@jupyter-widgets/base",
            "_view_module_version": "1.2.0",
            "_view_name": "StyleView",
            "description_width": ""
          }
        }
      }
    }
  },
  "nbformat": 4,
  "nbformat_minor": 0
}