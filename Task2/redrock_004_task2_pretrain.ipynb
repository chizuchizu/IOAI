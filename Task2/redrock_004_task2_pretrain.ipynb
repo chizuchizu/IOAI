{
  "nbformat": 4,
  "nbformat_minor": 0,
  "metadata": {
    "colab": {
      "provenance": [],
      "gpuType": "L4",
      "machine_shape": "hm",
      "include_colab_link": true
    },
    "kernelspec": {
      "name": "python3",
      "display_name": "Python 3"
    },
    "language_info": {
      "name": "python"
    },
    "accelerator": "GPU",
    "widgets": {
      "application/vnd.jupyter.widget-state+json": {
        "23f04b16b1464268a7123c34ec929785": {
          "model_module": "@jupyter-widgets/controls",
          "model_name": "HBoxModel",
          "model_module_version": "1.5.0",
          "state": {
            "_dom_classes": [],
            "_model_module": "@jupyter-widgets/controls",
            "_model_module_version": "1.5.0",
            "_model_name": "HBoxModel",
            "_view_count": null,
            "_view_module": "@jupyter-widgets/controls",
            "_view_module_version": "1.5.0",
            "_view_name": "HBoxView",
            "box_style": "",
            "children": [
              "IPY_MODEL_33b1a7547fa54df2a829d522fdcf117c",
              "IPY_MODEL_5e0ffbd89d23432686e706650cd748db",
              "IPY_MODEL_feabfa41dbbe4ee4b6458184cdea6f3b"
            ],
            "layout": "IPY_MODEL_46782c8157fd49a08cfc937860df114b"
          }
        },
        "33b1a7547fa54df2a829d522fdcf117c": {
          "model_module": "@jupyter-widgets/controls",
          "model_name": "HTMLModel",
          "model_module_version": "1.5.0",
          "state": {
            "_dom_classes": [],
            "_model_module": "@jupyter-widgets/controls",
            "_model_module_version": "1.5.0",
            "_model_name": "HTMLModel",
            "_view_count": null,
            "_view_module": "@jupyter-widgets/controls",
            "_view_module_version": "1.5.0",
            "_view_name": "HTMLView",
            "description": "",
            "description_tooltip": null,
            "layout": "IPY_MODEL_de4375a81ac84f7291d4e9d6608098bc",
            "placeholder": "​",
            "style": "IPY_MODEL_d8f2e1017b31477a82018ddfbb40141a",
            "value": "step 19100, loss: 3.15012: 100%"
          }
        },
        "5e0ffbd89d23432686e706650cd748db": {
          "model_module": "@jupyter-widgets/controls",
          "model_name": "FloatProgressModel",
          "model_module_version": "1.5.0",
          "state": {
            "_dom_classes": [],
            "_model_module": "@jupyter-widgets/controls",
            "_model_module_version": "1.5.0",
            "_model_name": "FloatProgressModel",
            "_view_count": null,
            "_view_module": "@jupyter-widgets/controls",
            "_view_module_version": "1.5.0",
            "_view_name": "ProgressView",
            "bar_style": "success",
            "description": "",
            "description_tooltip": null,
            "layout": "IPY_MODEL_f95692b36ec14d679751a44654f6c0e3",
            "max": 19101,
            "min": 0,
            "orientation": "horizontal",
            "style": "IPY_MODEL_49a08d7ddd5f440fb444ca32216d24a1",
            "value": 19101
          }
        },
        "feabfa41dbbe4ee4b6458184cdea6f3b": {
          "model_module": "@jupyter-widgets/controls",
          "model_name": "HTMLModel",
          "model_module_version": "1.5.0",
          "state": {
            "_dom_classes": [],
            "_model_module": "@jupyter-widgets/controls",
            "_model_module_version": "1.5.0",
            "_model_name": "HTMLModel",
            "_view_count": null,
            "_view_module": "@jupyter-widgets/controls",
            "_view_module_version": "1.5.0",
            "_view_name": "HTMLView",
            "description": "",
            "description_tooltip": null,
            "layout": "IPY_MODEL_5e891a3ab09a4f23ad0393a2ba0a9f1f",
            "placeholder": "​",
            "style": "IPY_MODEL_838a86688ac349b79be91c7ffb7b8c8c",
            "value": " 19101/19101 [2:29:17&lt;00:00,  2.13it/s]"
          }
        },
        "46782c8157fd49a08cfc937860df114b": {
          "model_module": "@jupyter-widgets/base",
          "model_name": "LayoutModel",
          "model_module_version": "1.2.0",
          "state": {
            "_model_module": "@jupyter-widgets/base",
            "_model_module_version": "1.2.0",
            "_model_name": "LayoutModel",
            "_view_count": null,
            "_view_module": "@jupyter-widgets/base",
            "_view_module_version": "1.2.0",
            "_view_name": "LayoutView",
            "align_content": null,
            "align_items": null,
            "align_self": null,
            "border": null,
            "bottom": null,
            "display": "inline-flex",
            "flex": null,
            "flex_flow": "row wrap",
            "grid_area": null,
            "grid_auto_columns": null,
            "grid_auto_flow": null,
            "grid_auto_rows": null,
            "grid_column": null,
            "grid_gap": null,
            "grid_row": null,
            "grid_template_areas": null,
            "grid_template_columns": null,
            "grid_template_rows": null,
            "height": null,
            "justify_content": null,
            "justify_items": null,
            "left": null,
            "margin": null,
            "max_height": null,
            "max_width": null,
            "min_height": null,
            "min_width": null,
            "object_fit": null,
            "object_position": null,
            "order": null,
            "overflow": null,
            "overflow_x": null,
            "overflow_y": null,
            "padding": null,
            "right": null,
            "top": null,
            "visibility": null,
            "width": "100%"
          }
        },
        "de4375a81ac84f7291d4e9d6608098bc": {
          "model_module": "@jupyter-widgets/base",
          "model_name": "LayoutModel",
          "model_module_version": "1.2.0",
          "state": {
            "_model_module": "@jupyter-widgets/base",
            "_model_module_version": "1.2.0",
            "_model_name": "LayoutModel",
            "_view_count": null,
            "_view_module": "@jupyter-widgets/base",
            "_view_module_version": "1.2.0",
            "_view_name": "LayoutView",
            "align_content": null,
            "align_items": null,
            "align_self": null,
            "border": null,
            "bottom": null,
            "display": null,
            "flex": null,
            "flex_flow": null,
            "grid_area": null,
            "grid_auto_columns": null,
            "grid_auto_flow": null,
            "grid_auto_rows": null,
            "grid_column": null,
            "grid_gap": null,
            "grid_row": null,
            "grid_template_areas": null,
            "grid_template_columns": null,
            "grid_template_rows": null,
            "height": null,
            "justify_content": null,
            "justify_items": null,
            "left": null,
            "margin": null,
            "max_height": null,
            "max_width": null,
            "min_height": null,
            "min_width": null,
            "object_fit": null,
            "object_position": null,
            "order": null,
            "overflow": null,
            "overflow_x": null,
            "overflow_y": null,
            "padding": null,
            "right": null,
            "top": null,
            "visibility": null,
            "width": null
          }
        },
        "d8f2e1017b31477a82018ddfbb40141a": {
          "model_module": "@jupyter-widgets/controls",
          "model_name": "DescriptionStyleModel",
          "model_module_version": "1.5.0",
          "state": {
            "_model_module": "@jupyter-widgets/controls",
            "_model_module_version": "1.5.0",
            "_model_name": "DescriptionStyleModel",
            "_view_count": null,
            "_view_module": "@jupyter-widgets/base",
            "_view_module_version": "1.2.0",
            "_view_name": "StyleView",
            "description_width": ""
          }
        },
        "f95692b36ec14d679751a44654f6c0e3": {
          "model_module": "@jupyter-widgets/base",
          "model_name": "LayoutModel",
          "model_module_version": "1.2.0",
          "state": {
            "_model_module": "@jupyter-widgets/base",
            "_model_module_version": "1.2.0",
            "_model_name": "LayoutModel",
            "_view_count": null,
            "_view_module": "@jupyter-widgets/base",
            "_view_module_version": "1.2.0",
            "_view_name": "LayoutView",
            "align_content": null,
            "align_items": null,
            "align_self": null,
            "border": null,
            "bottom": null,
            "display": null,
            "flex": "2",
            "flex_flow": null,
            "grid_area": null,
            "grid_auto_columns": null,
            "grid_auto_flow": null,
            "grid_auto_rows": null,
            "grid_column": null,
            "grid_gap": null,
            "grid_row": null,
            "grid_template_areas": null,
            "grid_template_columns": null,
            "grid_template_rows": null,
            "height": null,
            "justify_content": null,
            "justify_items": null,
            "left": null,
            "margin": null,
            "max_height": null,
            "max_width": null,
            "min_height": null,
            "min_width": null,
            "object_fit": null,
            "object_position": null,
            "order": null,
            "overflow": null,
            "overflow_x": null,
            "overflow_y": null,
            "padding": null,
            "right": null,
            "top": null,
            "visibility": null,
            "width": null
          }
        },
        "49a08d7ddd5f440fb444ca32216d24a1": {
          "model_module": "@jupyter-widgets/controls",
          "model_name": "ProgressStyleModel",
          "model_module_version": "1.5.0",
          "state": {
            "_model_module": "@jupyter-widgets/controls",
            "_model_module_version": "1.5.0",
            "_model_name": "ProgressStyleModel",
            "_view_count": null,
            "_view_module": "@jupyter-widgets/base",
            "_view_module_version": "1.2.0",
            "_view_name": "StyleView",
            "bar_color": null,
            "description_width": ""
          }
        },
        "5e891a3ab09a4f23ad0393a2ba0a9f1f": {
          "model_module": "@jupyter-widgets/base",
          "model_name": "LayoutModel",
          "model_module_version": "1.2.0",
          "state": {
            "_model_module": "@jupyter-widgets/base",
            "_model_module_version": "1.2.0",
            "_model_name": "LayoutModel",
            "_view_count": null,
            "_view_module": "@jupyter-widgets/base",
            "_view_module_version": "1.2.0",
            "_view_name": "LayoutView",
            "align_content": null,
            "align_items": null,
            "align_self": null,
            "border": null,
            "bottom": null,
            "display": null,
            "flex": null,
            "flex_flow": null,
            "grid_area": null,
            "grid_auto_columns": null,
            "grid_auto_flow": null,
            "grid_auto_rows": null,
            "grid_column": null,
            "grid_gap": null,
            "grid_row": null,
            "grid_template_areas": null,
            "grid_template_columns": null,
            "grid_template_rows": null,
            "height": null,
            "justify_content": null,
            "justify_items": null,
            "left": null,
            "margin": null,
            "max_height": null,
            "max_width": null,
            "min_height": null,
            "min_width": null,
            "object_fit": null,
            "object_position": null,
            "order": null,
            "overflow": null,
            "overflow_x": null,
            "overflow_y": null,
            "padding": null,
            "right": null,
            "top": null,
            "visibility": null,
            "width": null
          }
        },
        "838a86688ac349b79be91c7ffb7b8c8c": {
          "model_module": "@jupyter-widgets/controls",
          "model_name": "DescriptionStyleModel",
          "model_module_version": "1.5.0",
          "state": {
            "_model_module": "@jupyter-widgets/controls",
            "_model_module_version": "1.5.0",
            "_model_name": "DescriptionStyleModel",
            "_view_count": null,
            "_view_module": "@jupyter-widgets/base",
            "_view_module_version": "1.2.0",
            "_view_name": "StyleView",
            "description_width": ""
          }
        },
        "6f4b2372e5164ddfa5588dfb7727ca3c": {
          "model_module": "@jupyter-widgets/controls",
          "model_name": "HBoxModel",
          "model_module_version": "1.5.0",
          "state": {
            "_dom_classes": [],
            "_model_module": "@jupyter-widgets/controls",
            "_model_module_version": "1.5.0",
            "_model_name": "HBoxModel",
            "_view_count": null,
            "_view_module": "@jupyter-widgets/controls",
            "_view_module_version": "1.5.0",
            "_view_name": "HBoxView",
            "box_style": "",
            "children": [
              "IPY_MODEL_4e2e09f171c346e4ba08e8f131d315de",
              "IPY_MODEL_7de96d50bc2742c485a72fc94828ce63",
              "IPY_MODEL_bc2eba8f653a49cf8032c1104986302d"
            ],
            "layout": "IPY_MODEL_07ac08c8a9b44553a7a0957734a29635"
          }
        },
        "4e2e09f171c346e4ba08e8f131d315de": {
          "model_module": "@jupyter-widgets/controls",
          "model_name": "HTMLModel",
          "model_module_version": "1.5.0",
          "state": {
            "_dom_classes": [],
            "_model_module": "@jupyter-widgets/controls",
            "_model_module_version": "1.5.0",
            "_model_name": "HTMLModel",
            "_view_count": null,
            "_view_module": "@jupyter-widgets/controls",
            "_view_module_version": "1.5.0",
            "_view_name": "HTMLView",
            "description": "",
            "description_tooltip": null,
            "layout": "IPY_MODEL_0ad54f25792a4a73b68b431a4cb0346a",
            "placeholder": "​",
            "style": "IPY_MODEL_a33362a22bd040cfbe08c71609daaaa0",
            "value": "model.safetensors: 100%"
          }
        },
        "7de96d50bc2742c485a72fc94828ce63": {
          "model_module": "@jupyter-widgets/controls",
          "model_name": "FloatProgressModel",
          "model_module_version": "1.5.0",
          "state": {
            "_dom_classes": [],
            "_model_module": "@jupyter-widgets/controls",
            "_model_module_version": "1.5.0",
            "_model_name": "FloatProgressModel",
            "_view_count": null,
            "_view_module": "@jupyter-widgets/controls",
            "_view_module_version": "1.5.0",
            "_view_name": "ProgressView",
            "bar_style": "success",
            "description": "",
            "description_tooltip": null,
            "layout": "IPY_MODEL_8fd0c39420714190a0c48a0dc3481331",
            "max": 669879044,
            "min": 0,
            "orientation": "horizontal",
            "style": "IPY_MODEL_ccb6e6307c734674b46193e2c58e9838",
            "value": 669879044
          }
        },
        "bc2eba8f653a49cf8032c1104986302d": {
          "model_module": "@jupyter-widgets/controls",
          "model_name": "HTMLModel",
          "model_module_version": "1.5.0",
          "state": {
            "_dom_classes": [],
            "_model_module": "@jupyter-widgets/controls",
            "_model_module_version": "1.5.0",
            "_model_name": "HTMLModel",
            "_view_count": null,
            "_view_module": "@jupyter-widgets/controls",
            "_view_module_version": "1.5.0",
            "_view_name": "HTMLView",
            "description": "",
            "description_tooltip": null,
            "layout": "IPY_MODEL_5f1f4fb42fde4b04b1036a5e71c50a41",
            "placeholder": "​",
            "style": "IPY_MODEL_35f914da0a594fb89c11c1e411a8131b",
            "value": " 670M/670M [00:23&lt;00:00, 34.7MB/s]"
          }
        },
        "07ac08c8a9b44553a7a0957734a29635": {
          "model_module": "@jupyter-widgets/base",
          "model_name": "LayoutModel",
          "model_module_version": "1.2.0",
          "state": {
            "_model_module": "@jupyter-widgets/base",
            "_model_module_version": "1.2.0",
            "_model_name": "LayoutModel",
            "_view_count": null,
            "_view_module": "@jupyter-widgets/base",
            "_view_module_version": "1.2.0",
            "_view_name": "LayoutView",
            "align_content": null,
            "align_items": null,
            "align_self": null,
            "border": null,
            "bottom": null,
            "display": null,
            "flex": null,
            "flex_flow": null,
            "grid_area": null,
            "grid_auto_columns": null,
            "grid_auto_flow": null,
            "grid_auto_rows": null,
            "grid_column": null,
            "grid_gap": null,
            "grid_row": null,
            "grid_template_areas": null,
            "grid_template_columns": null,
            "grid_template_rows": null,
            "height": null,
            "justify_content": null,
            "justify_items": null,
            "left": null,
            "margin": null,
            "max_height": null,
            "max_width": null,
            "min_height": null,
            "min_width": null,
            "object_fit": null,
            "object_position": null,
            "order": null,
            "overflow": null,
            "overflow_x": null,
            "overflow_y": null,
            "padding": null,
            "right": null,
            "top": null,
            "visibility": null,
            "width": null
          }
        },
        "0ad54f25792a4a73b68b431a4cb0346a": {
          "model_module": "@jupyter-widgets/base",
          "model_name": "LayoutModel",
          "model_module_version": "1.2.0",
          "state": {
            "_model_module": "@jupyter-widgets/base",
            "_model_module_version": "1.2.0",
            "_model_name": "LayoutModel",
            "_view_count": null,
            "_view_module": "@jupyter-widgets/base",
            "_view_module_version": "1.2.0",
            "_view_name": "LayoutView",
            "align_content": null,
            "align_items": null,
            "align_self": null,
            "border": null,
            "bottom": null,
            "display": null,
            "flex": null,
            "flex_flow": null,
            "grid_area": null,
            "grid_auto_columns": null,
            "grid_auto_flow": null,
            "grid_auto_rows": null,
            "grid_column": null,
            "grid_gap": null,
            "grid_row": null,
            "grid_template_areas": null,
            "grid_template_columns": null,
            "grid_template_rows": null,
            "height": null,
            "justify_content": null,
            "justify_items": null,
            "left": null,
            "margin": null,
            "max_height": null,
            "max_width": null,
            "min_height": null,
            "min_width": null,
            "object_fit": null,
            "object_position": null,
            "order": null,
            "overflow": null,
            "overflow_x": null,
            "overflow_y": null,
            "padding": null,
            "right": null,
            "top": null,
            "visibility": null,
            "width": null
          }
        },
        "a33362a22bd040cfbe08c71609daaaa0": {
          "model_module": "@jupyter-widgets/controls",
          "model_name": "DescriptionStyleModel",
          "model_module_version": "1.5.0",
          "state": {
            "_model_module": "@jupyter-widgets/controls",
            "_model_module_version": "1.5.0",
            "_model_name": "DescriptionStyleModel",
            "_view_count": null,
            "_view_module": "@jupyter-widgets/base",
            "_view_module_version": "1.2.0",
            "_view_name": "StyleView",
            "description_width": ""
          }
        },
        "8fd0c39420714190a0c48a0dc3481331": {
          "model_module": "@jupyter-widgets/base",
          "model_name": "LayoutModel",
          "model_module_version": "1.2.0",
          "state": {
            "_model_module": "@jupyter-widgets/base",
            "_model_module_version": "1.2.0",
            "_model_name": "LayoutModel",
            "_view_count": null,
            "_view_module": "@jupyter-widgets/base",
            "_view_module_version": "1.2.0",
            "_view_name": "LayoutView",
            "align_content": null,
            "align_items": null,
            "align_self": null,
            "border": null,
            "bottom": null,
            "display": null,
            "flex": null,
            "flex_flow": null,
            "grid_area": null,
            "grid_auto_columns": null,
            "grid_auto_flow": null,
            "grid_auto_rows": null,
            "grid_column": null,
            "grid_gap": null,
            "grid_row": null,
            "grid_template_areas": null,
            "grid_template_columns": null,
            "grid_template_rows": null,
            "height": null,
            "justify_content": null,
            "justify_items": null,
            "left": null,
            "margin": null,
            "max_height": null,
            "max_width": null,
            "min_height": null,
            "min_width": null,
            "object_fit": null,
            "object_position": null,
            "order": null,
            "overflow": null,
            "overflow_x": null,
            "overflow_y": null,
            "padding": null,
            "right": null,
            "top": null,
            "visibility": null,
            "width": null
          }
        },
        "ccb6e6307c734674b46193e2c58e9838": {
          "model_module": "@jupyter-widgets/controls",
          "model_name": "ProgressStyleModel",
          "model_module_version": "1.5.0",
          "state": {
            "_model_module": "@jupyter-widgets/controls",
            "_model_module_version": "1.5.0",
            "_model_name": "ProgressStyleModel",
            "_view_count": null,
            "_view_module": "@jupyter-widgets/base",
            "_view_module_version": "1.2.0",
            "_view_name": "StyleView",
            "bar_color": null,
            "description_width": ""
          }
        },
        "5f1f4fb42fde4b04b1036a5e71c50a41": {
          "model_module": "@jupyter-widgets/base",
          "model_name": "LayoutModel",
          "model_module_version": "1.2.0",
          "state": {
            "_model_module": "@jupyter-widgets/base",
            "_model_module_version": "1.2.0",
            "_model_name": "LayoutModel",
            "_view_count": null,
            "_view_module": "@jupyter-widgets/base",
            "_view_module_version": "1.2.0",
            "_view_name": "LayoutView",
            "align_content": null,
            "align_items": null,
            "align_self": null,
            "border": null,
            "bottom": null,
            "display": null,
            "flex": null,
            "flex_flow": null,
            "grid_area": null,
            "grid_auto_columns": null,
            "grid_auto_flow": null,
            "grid_auto_rows": null,
            "grid_column": null,
            "grid_gap": null,
            "grid_row": null,
            "grid_template_areas": null,
            "grid_template_columns": null,
            "grid_template_rows": null,
            "height": null,
            "justify_content": null,
            "justify_items": null,
            "left": null,
            "margin": null,
            "max_height": null,
            "max_width": null,
            "min_height": null,
            "min_width": null,
            "object_fit": null,
            "object_position": null,
            "order": null,
            "overflow": null,
            "overflow_x": null,
            "overflow_y": null,
            "padding": null,
            "right": null,
            "top": null,
            "visibility": null,
            "width": null
          }
        },
        "35f914da0a594fb89c11c1e411a8131b": {
          "model_module": "@jupyter-widgets/controls",
          "model_name": "DescriptionStyleModel",
          "model_module_version": "1.5.0",
          "state": {
            "_model_module": "@jupyter-widgets/controls",
            "_model_module_version": "1.5.0",
            "_model_name": "DescriptionStyleModel",
            "_view_count": null,
            "_view_module": "@jupyter-widgets/base",
            "_view_module_version": "1.2.0",
            "_view_name": "StyleView",
            "description_width": ""
          }
        }
      }
    }
  },
  "cells": [
    {
      "cell_type": "markdown",
      "metadata": {
        "id": "view-in-github",
        "colab_type": "text"
      },
      "source": [
        "<a href=\"https://colab.research.google.com/github/chizuchizu/IOAI/blob/main/Task2/redrock_004_task2_pretrain.ipynb\" target=\"_parent\"><img src=\"https://colab.research.google.com/assets/colab-badge.svg\" alt=\"Open In Colab\"/></a>"
      ]
    },
    {
      "cell_type": "code",
      "source": [
        "from google.colab import userdata\n",
        "\n",
        "read_access_token = userdata.get('hf_read')\n",
        "write_access_token = userdata.get('hf_write')"
      ],
      "metadata": {
        "id": "sV85hgL0yxn0"
      },
      "execution_count": null,
      "outputs": []
    },
    {
      "cell_type": "markdown",
      "source": [
        "### Dependencies"
      ],
      "metadata": {
        "id": "SyLH6A-YEJG3"
      }
    },
    {
      "cell_type": "code",
      "source": [
        "import importlib\n",
        "import torch, transformers\n",
        "\n",
        "if '2.3.0' not in torch.__version__:\n",
        "  !pip install torch==2.3.0\n",
        "if transformers.__version__!='4.41.2':\n",
        "  !pip install transformers==4.41.2\n",
        "\n",
        "if importlib.util.find_spec('datasets') is None:\n",
        "  !pip install datasets==2.18.0s\n",
        "  !pip install evaluate==0.4.2\n",
        "  !pip install accelerate -U\n"
      ],
      "metadata": {
        "id": "8VH0WJYuM_4Z",
        "collapsed": true
      },
      "execution_count": null,
      "outputs": []
    },
    {
      "cell_type": "markdown",
      "source": [
        "If you've just installed `accelerate`, execute `Runtime > Restart session and run all` in the Colab UI menu above."
      ],
      "metadata": {
        "id": "zridt_PWpd9d"
      }
    },
    {
      "cell_type": "code",
      "source": [
        "import os\n",
        "import numpy as np\n",
        "\n",
        "import torch\n",
        "import torch.nn as nn\n",
        "import torch.optim as optim\n",
        "from torch.utils.data import DataLoader\n",
        "from torch.functional import F\n",
        "\n",
        "import torchvision\n",
        "from torchvision import datasets, transforms, models\n",
        "\n",
        "from tqdm.auto import tqdm\n",
        "\n",
        "from transformers import AutoModelForSequenceClassification, AutoTokenizer, DataCollatorWithPadding, get_scheduler, BertForMaskedLM, BertTokenizer\n",
        "from transformers import DataCollatorForLanguageModeling\n",
        "from datasets import load_dataset, Dataset, DatasetDict\n",
        "\n",
        "import evaluate"
      ],
      "metadata": {
        "id": "eoEpqfXmjimD"
      },
      "execution_count": null,
      "outputs": []
    },
    {
      "cell_type": "code",
      "source": [
        "# ====================================================\n",
        "# CFG\n",
        "# ====================================================\n",
        "\n",
        "class CFG:\n",
        "    num_workers=4\n",
        "    project = \"IOAI_Task2_classification\"\n",
        "    name = \"task2_redrock_004_pretrain\"\n",
        "\n",
        "    # model\n",
        "    base_model_name = \"google-bert/bert-base-multilingual-uncased\"\n",
        "    mlm_probability = 0.15\n",
        "\n",
        "    # training\n",
        "    epochs = 1\n",
        "\n",
        "    scheduler=\"CosineAnnealingLR\" # ['ReduceLROnPlateau', 'CosineAnnealingLR', 'CosineAnnealingWarmRestarts']\n",
        "\n",
        "    lr = 1e-05\n",
        "\n",
        "    # dataset\n",
        "    max_length = 256\n",
        "\n",
        "    # T4: 32\n",
        "    # L4: 64\n",
        "    train_batch_size = 32\n",
        "    eval_batch_size = 32\n",
        "\n",
        "    seed=42\n",
        "    train=True"
      ],
      "metadata": {
        "id": "BlRLkPdokFYS"
      },
      "execution_count": null,
      "outputs": []
    },
    {
      "cell_type": "code",
      "source": [
        "model = BertForMaskedLM.from_pretrained(\n",
        "    CFG.base_model_name,\n",
        ").cuda()#.half()"
      ],
      "metadata": {
        "colab": {
          "base_uri": "https://localhost:8080/"
        },
        "id": "vC99GXCraB1i",
        "outputId": "f4f1c33a-cddf-4c49-82c5-d8d06d859e2e",
        "collapsed": true
      },
      "execution_count": null,
      "outputs": [
        {
          "output_type": "stream",
          "name": "stderr",
          "text": [
            "/usr/local/lib/python3.10/dist-packages/huggingface_hub/utils/_token.py:89: UserWarning: \n",
            "The secret `HF_TOKEN` does not exist in your Colab secrets.\n",
            "To authenticate with the Hugging Face Hub, create a token in your settings tab (https://huggingface.co/settings/tokens), set it as secret in your Google Colab and restart your session.\n",
            "You will be able to reuse this secret in all of your notebooks.\n",
            "Please note that authentication is recommended but still optional to access public models or datasets.\n",
            "  warnings.warn(\n",
            "Some weights of the model checkpoint at google-bert/bert-base-multilingual-uncased were not used when initializing BertForMaskedLM: ['bert.pooler.dense.bias', 'bert.pooler.dense.weight', 'cls.seq_relationship.bias', 'cls.seq_relationship.weight']\n",
            "- This IS expected if you are initializing BertForMaskedLM from the checkpoint of a model trained on another task or with another architecture (e.g. initializing a BertForSequenceClassification model from a BertForPreTraining model).\n",
            "- This IS NOT expected if you are initializing BertForMaskedLM from the checkpoint of a model that you expect to be exactly identical (initializing a BertForSequenceClassification model from a BertForSequenceClassification model).\n"
          ]
        }
      ]
    },
    {
      "cell_type": "code",
      "source": [
        "raw_dataset = load_dataset('InternationalOlympiadAI/NLP_problem_raw', token=read_access_token)\n",
        "\n",
        "# classification_dataset = load_dataset('InternationalOlympiadAI/NLP_problem', token=read_access_token)\n",
        "# tokenizer = AutoTokenizer.from_pretrained(CFG.base_model_name)\n",
        "brahmi_to_devanagari = {\n",
        "    '𑀓': 'क', '𑀔': 'ख', '𑀕': 'ग', '𑀖': 'घ', '𑀗': 'ङ', '𑀘': 'च', '𑀙': 'छ',\n",
        "    '𑀚': 'ज', '𑀛': 'झ', '𑀜': 'ञ', '𑀝': 'ट', '𑀞': 'ठ', '𑀟': 'ड', '𑀠': 'ढ',\n",
        "    '𑀡': 'ण', '𑀢': 'त', '𑀣': 'थ', '𑀤': 'द', '𑀥': 'ध', '𑀦': 'न', '𑀧': 'प',\n",
        "    '𑀨': 'फ', '𑀩': 'ब', '𑀪': 'भ', '𑀫': 'म', '𑀬': 'य', '𑀭': 'र', '𑀮': 'ल',\n",
        "    '𑀯': 'व', '𑀰': 'श', '𑀱': 'ष', '𑀲': 'स', '𑀳': 'ह', '𑁦':'०', '𑁣': '90'\n",
        "}\n",
        "\n",
        "def transliterate_brahmi_to_devanagari(text):\n",
        "    transliterated_text = ''\n",
        "    for char in text:\n",
        "        if char in brahmi_to_devanagari:\n",
        "            transliterated_text += brahmi_to_devanagari[char]\n",
        "        else:\n",
        "            transliterated_text += char\n",
        "    return transliterated_text"
      ],
      "metadata": {
        "id": "7AFMOeVowDin"
      },
      "execution_count": null,
      "outputs": []
    },
    {
      "cell_type": "code",
      "source": [
        "file_name = \"raw_text.txt\"\n",
        "\n",
        "connected_text = \"\"\n",
        "\n",
        "for x in raw_dataset['train'][\"text\"]:\n",
        "    connected_text += transliterate_brahmi_to_devanagari(x)\n",
        "    connected_text += \"\\n\"\n",
        "\n",
        "# print(connected_text)\n",
        "\n",
        "with open(file_name, 'w', encoding='utf-8') as f:\n",
        "    f.write(connected_text)"
      ],
      "metadata": {
        "id": "1vK3adirwHVy"
      },
      "execution_count": null,
      "outputs": []
    },
    {
      "cell_type": "code",
      "source": [
        "!pip install sentencepiece\n",
        "import sentencepiece as spm\n",
        "\n",
        "spm.SentencePieceTrainer.train(input='raw_text.txt', model_prefix='tokenize', vocab_size=1000, character_coverage=0.9995, user_defined_symbols=['[CLS]', '[SEP]', '[PAD]', '[UNK]', '[MASK]'])\n",
        "\n",
        "sp = spm.SentencePieceProcessor(model_file='tokenize.model')"
      ],
      "metadata": {
        "colab": {
          "base_uri": "https://localhost:8080/"
        },
        "id": "MoX3WJrLwIhY",
        "outputId": "cadc286a-d5ff-4c0b-c6bd-4f92e776ec51"
      },
      "execution_count": null,
      "outputs": [
        {
          "output_type": "stream",
          "name": "stdout",
          "text": [
            "Requirement already satisfied: sentencepiece in /usr/local/lib/python3.10/dist-packages (0.1.99)\n"
          ]
        }
      ]
    },
    {
      "cell_type": "code",
      "source": [
        "!pip install protobuf\n",
        "!wget https://raw.githubusercontent.com/google/sentencepiece/master/python/src/sentencepiece/sentencepiece_model_pb2.py\n",
        "\n",
        "from tokenizers.implementations import SentencePieceUnigramTokenizer\n",
        "from tokenizers.processors import BertProcessing\n",
        "from transformers import PreTrainedTokenizerFast\n",
        "\n",
        "spm_tokenizer = SentencePieceUnigramTokenizer.from_spm(\n",
        "    'tokenize.model'\n",
        ")\n",
        "\n",
        "special_tokens = ['[CLS]', '[SEP]', '[PAD]', '[UNK]', '[MASK]']\n",
        "for token in special_tokens:\n",
        "    if token not in spm_tokenizer.get_vocab():\n",
        "        spm_tokenizer.add_special_tokens([token])\n",
        "\n",
        "spm_tokenizer.post_processor = BertProcessing(\n",
        "    cls=(\"[CLS]\", spm_tokenizer.token_to_id('[CLS]')),\n",
        "    sep=(\"[SEP]\", spm_tokenizer.token_to_id('[SEP]'))\n",
        ")\n",
        "\n",
        "bert_tokenizer = PreTrainedTokenizerFast(\n",
        "    tokenizer_object = spm_tokenizer._tokenizer,\n",
        "    unk_token = '<unk>',\n",
        "    bos_token = '<s>',\n",
        "    eos_token = '</s>',\n",
        "    cls_token = '[CLS]',\n",
        "    sep_token = '[SEP]',\n",
        "    pad_token = '[PAD]',\n",
        "    mask_token = '[MASK]',\n",
        ")\n",
        "\n",
        "\n",
        "\"\"\"\n",
        "print(\n",
        "    bert_tokenizer.batch_encode_plus(\n",
        "        [\"च𑀪त𑀫च𑁦𑁣ल𑁣बण 𑀣च तचध𑀢पचल𑀢𑀳𑀠𑀕 𑀣चबच 𑀣च𑀙च 𑀤न𑀱च 𑀳𑀢णच𑀳च𑀯\", \"𑀱च𑀟𑀣च 𑀫च𑀞च𑀟 𑀟च 𑀞च𑀱𑁣 𑀲चञच 𑀣च 𑀲𑀢प𑀢𑀟च𑀯\"], padding=True\n",
        "    )\n",
        ")\n",
        "\"\"\"\n",
        "\n",
        "def transform(example_batch):\n",
        "    example_batch[\"text\"] = [transliterate_brahmi_to_devanagari(x) for x in example_batch[\"text\"]]\n",
        "    inputs =  bert_tokenizer.batch_encode_plus([x for x in example_batch[\"text\"]],  truncation=True, max_length=CFG.max_length, padding=\"max_length\", return_tensors=\"pt\")\n",
        "    # inputs[\"labels\"] = example_batch[\"label\"]\n",
        "    return inputs\n",
        "\n",
        "tokenized_data = raw_dataset.with_transform(transform)"
      ],
      "metadata": {
        "colab": {
          "base_uri": "https://localhost:8080/"
        },
        "id": "xdJSynmtv63X",
        "outputId": "c45e257f-b9ed-4d94-d2ab-f9beb06ec6c5"
      },
      "execution_count": null,
      "outputs": [
        {
          "output_type": "stream",
          "name": "stdout",
          "text": [
            "Requirement already satisfied: protobuf in /usr/local/lib/python3.10/dist-packages (3.20.3)\n",
            "--2024-07-11 13:10:00--  https://raw.githubusercontent.com/google/sentencepiece/master/python/src/sentencepiece/sentencepiece_model_pb2.py\n",
            "Resolving raw.githubusercontent.com (raw.githubusercontent.com)... 185.199.108.133, 185.199.109.133, 185.199.110.133, ...\n",
            "Connecting to raw.githubusercontent.com (raw.githubusercontent.com)|185.199.108.133|:443... connected.\n",
            "HTTP request sent, awaiting response... 200 OK\n",
            "Length: 6257 (6.1K) [text/plain]\n",
            "Saving to: ‘sentencepiece_model_pb2.py.1’\n",
            "\n",
            "sentencepiece_model 100%[===================>]   6.11K  --.-KB/s    in 0s      \n",
            "\n",
            "2024-07-11 13:10:00 (58.1 MB/s) - ‘sentencepiece_model_pb2.py.1’ saved [6257/6257]\n",
            "\n"
          ]
        }
      ]
    },
    {
      "cell_type": "code",
      "source": [
        "def to_device(batch, device):\n",
        "    output = {}\n",
        "    for k, v in batch.items():\n",
        "        try:\n",
        "            output[k] = v.to(device)\n",
        "        except:\n",
        "            output[k] = v\n",
        "    return output"
      ],
      "metadata": {
        "id": "P2jUC3VGtS29"
      },
      "execution_count": null,
      "outputs": []
    },
    {
      "cell_type": "code",
      "source": [
        "data_collator = DataCollatorForLanguageModeling(\n",
        "    tokenizer=bert_tokenizer,\n",
        "    mlm=True,\n",
        "    mlm_probability=CFG.mlm_probability\n",
        ")\n",
        "\n",
        "# dataset\n",
        "train_dataset = tokenized_data[\"train\"]\n",
        "train_loader = DataLoader(\n",
        "    train_dataset,\n",
        "    batch_size=CFG.train_batch_size,\n",
        "    num_workers=0,\n",
        "    pin_memory=False,\n",
        "    shuffle=True,\n",
        "    drop_last=True,\n",
        "    collate_fn=data_collator,\n",
        ")\n",
        "\n",
        "epochs = 1\n",
        "num_training_steps = epochs * len(train_loader)\n",
        "optimizer = optim.AdamW(model.parameters(), lr=CFG.lr)\n",
        "scheduler = get_scheduler(name=\"linear\", optimizer=optimizer, num_warmup_steps=0, num_training_steps=num_training_steps)"
      ],
      "metadata": {
        "id": "cDsCoOBpjQHT"
      },
      "execution_count": null,
      "outputs": []
    },
    {
      "cell_type": "code",
      "source": [
        "device = torch.device(\"cuda\") if torch.cuda.is_available() else torch.device(\"cpu\")\n",
        "\n",
        "scaler = torch.cuda.amp.GradScaler()\n",
        "\n",
        "import torch.cuda.amp as amp # or import torch.cuda.amp as amp for PyTorch's native amp\n",
        "\n",
        "def train_one_epoch(model, scheduler, train_loader, optimizer):\n",
        "    model.train()\n",
        "    running_loss = 0.0\n",
        "    progress_bar = tqdm(train_loader, dynamic_ncols=True)\n",
        "\n",
        "    for step, batch in enumerate(progress_bar):\n",
        "        batch = to_device(batch, device)\n",
        "\n",
        "        # Convert data to fp16\n",
        "        with amp.autocast():\n",
        "            outputs = model(**batch)\n",
        "            loss = outputs.loss\n",
        "\n",
        "        # Scale loss for fp16 training\n",
        "        scaler.scale(loss).backward()\n",
        "        text = f\"step {step}, loss: {loss:.5f}\"\n",
        "        progress_bar.set_description(text)\n",
        "\n",
        "        # Optimizer step with gradient scaling\n",
        "        scaler.step(optimizer)\n",
        "        scaler.update()\n",
        "        optimizer.zero_grad()\n",
        "        scheduler.step()\n",
        "\n",
        "\n",
        "# Train and evaluate the model\n",
        "model.to(device)\n",
        "for i in range(CFG.epochs):\n",
        "    train_one_epoch(model, scheduler, train_loader, optimizer)\n",
        "    print(f'Epoch {i+1}')"
      ],
      "metadata": {
        "colab": {
          "base_uri": "https://localhost:8080/",
          "height": 123,
          "referenced_widgets": [
            "23f04b16b1464268a7123c34ec929785",
            "33b1a7547fa54df2a829d522fdcf117c",
            "5e0ffbd89d23432686e706650cd748db",
            "feabfa41dbbe4ee4b6458184cdea6f3b",
            "46782c8157fd49a08cfc937860df114b",
            "de4375a81ac84f7291d4e9d6608098bc",
            "d8f2e1017b31477a82018ddfbb40141a",
            "f95692b36ec14d679751a44654f6c0e3",
            "49a08d7ddd5f440fb444ca32216d24a1",
            "5e891a3ab09a4f23ad0393a2ba0a9f1f",
            "838a86688ac349b79be91c7ffb7b8c8c"
          ]
        },
        "id": "eqlwGtodjQJl",
        "outputId": "2dcea152-a87b-4d42-d23d-a19f884a5110"
      },
      "execution_count": null,
      "outputs": [
        {
          "output_type": "display_data",
          "data": {
            "text/plain": [
              "  0%|          | 0/19101 [00:00<?, ?it/s]"
            ],
            "application/vnd.jupyter.widget-view+json": {
              "version_major": 2,
              "version_minor": 0,
              "model_id": "23f04b16b1464268a7123c34ec929785"
            }
          },
          "metadata": {}
        },
        {
          "output_type": "stream",
          "name": "stderr",
          "text": [
            "/usr/local/lib/python3.10/dist-packages/torch/optim/lr_scheduler.py:143: UserWarning: Detected call of `lr_scheduler.step()` before `optimizer.step()`. In PyTorch 1.1.0 and later, you should call them in the opposite order: `optimizer.step()` before `lr_scheduler.step()`.  Failure to do this will result in PyTorch skipping the first value of the learning rate schedule. See more details at https://pytorch.org/docs/stable/optim.html#how-to-adjust-learning-rate\n",
            "  warnings.warn(\"Detected call of `lr_scheduler.step()` before `optimizer.step()`. \"\n"
          ]
        },
        {
          "output_type": "stream",
          "name": "stdout",
          "text": [
            "Epoch 1\n"
          ]
        }
      ]
    },
    {
      "cell_type": "code",
      "source": [
        "model.push_to_hub(\"ioai2024japan/redrock-004-pretrained-model\", token=write_access_token, private=True)"
      ],
      "metadata": {
        "colab": {
          "base_uri": "https://localhost:8080/",
          "height": 85,
          "referenced_widgets": [
            "6f4b2372e5164ddfa5588dfb7727ca3c",
            "4e2e09f171c346e4ba08e8f131d315de",
            "7de96d50bc2742c485a72fc94828ce63",
            "bc2eba8f653a49cf8032c1104986302d",
            "07ac08c8a9b44553a7a0957734a29635",
            "0ad54f25792a4a73b68b431a4cb0346a",
            "a33362a22bd040cfbe08c71609daaaa0",
            "8fd0c39420714190a0c48a0dc3481331",
            "ccb6e6307c734674b46193e2c58e9838",
            "5f1f4fb42fde4b04b1036a5e71c50a41",
            "35f914da0a594fb89c11c1e411a8131b"
          ]
        },
        "id": "qWvYAAbLGkPt",
        "outputId": "d6b9d23c-913d-4a1d-dc81-99cda0265f18"
      },
      "execution_count": null,
      "outputs": [
        {
          "output_type": "display_data",
          "data": {
            "text/plain": [
              "model.safetensors:   0%|          | 0.00/670M [00:00<?, ?B/s]"
            ],
            "application/vnd.jupyter.widget-view+json": {
              "version_major": 2,
              "version_minor": 0,
              "model_id": "6f4b2372e5164ddfa5588dfb7727ca3c"
            }
          },
          "metadata": {}
        },
        {
          "output_type": "execute_result",
          "data": {
            "text/plain": [
              "CommitInfo(commit_url='https://huggingface.co/ioai2024japan/redrock-004-pretrained-model/commit/e8a98343c3d8c4c2f8c9bc523aba92ca756d7cd8', commit_message='Upload BertForMaskedLM', commit_description='', oid='e8a98343c3d8c4c2f8c9bc523aba92ca756d7cd8', pr_url=None, pr_revision=None, pr_num=None)"
            ],
            "application/vnd.google.colaboratory.intrinsic+json": {
              "type": "string"
            }
          },
          "metadata": {},
          "execution_count": 13
        }
      ]
    },
    {
      "cell_type": "markdown",
      "source": [
        "# Data"
      ],
      "metadata": {
        "id": "EFTIQ9tDMqsE"
      }
    },
    {
      "cell_type": "code",
      "source": [
        "import gc\n",
        "import torch\n",
        "\n",
        "def flush():\n",
        "  gc.collect()\n",
        "  torch.cuda.empty_cache()\n",
        "flush()"
      ],
      "metadata": {
        "id": "gKdb2GI5vzO7"
      },
      "execution_count": null,
      "outputs": []
    }
  ]
}